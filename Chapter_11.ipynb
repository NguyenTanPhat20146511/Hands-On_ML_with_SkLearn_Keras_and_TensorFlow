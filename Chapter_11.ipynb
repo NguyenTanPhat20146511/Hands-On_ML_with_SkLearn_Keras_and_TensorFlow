{
 "cells": [
  {
   "cell_type": "markdown",
   "id": "57bd77f8",
   "metadata": {},
   "source": [
    "# Vanishing/Exploding Gradients Problems"
   ]
  },
  {
   "cell_type": "markdown",
   "id": "8369ff21",
   "metadata": {},
   "source": [
    "### Glorot and He Initialization"
   ]
  },
  {
   "cell_type": "code",
   "execution_count": 1,
   "id": "928a93ad",
   "metadata": {},
   "outputs": [],
   "source": [
    "import tensorflow as tf\n",
    "import numpy as np\n",
    "from tensorflow import keras\n",
    "import matplotlib.pyplot as plt"
   ]
  },
  {
   "cell_type": "code",
   "execution_count": 2,
   "id": "41b9369c",
   "metadata": {},
   "outputs": [
    {
     "data": {
      "text/plain": [
       "'2.12.0'"
      ]
     },
     "execution_count": 2,
     "metadata": {},
     "output_type": "execute_result"
    }
   ],
   "source": [
    "tf.__version__"
   ]
  },
  {
   "cell_type": "code",
   "execution_count": 3,
   "id": "ef2c563e",
   "metadata": {},
   "outputs": [
    {
     "data": {
      "text/plain": [
       "['Constant',\n",
       " 'GlorotNormal',\n",
       " 'GlorotUniform',\n",
       " 'HeNormal',\n",
       " 'HeUniform',\n",
       " 'Identity',\n",
       " 'Initializer',\n",
       " 'LecunNormal',\n",
       " 'LecunUniform',\n",
       " 'Ones',\n",
       " 'Orthogonal',\n",
       " 'RandomNormal',\n",
       " 'RandomUniform',\n",
       " 'TruncatedNormal',\n",
       " 'VarianceScaling',\n",
       " 'Zeros',\n",
       " 'constant',\n",
       " 'deserialize',\n",
       " 'get',\n",
       " 'glorot_normal',\n",
       " 'glorot_uniform',\n",
       " 'he_normal',\n",
       " 'he_uniform',\n",
       " 'identity',\n",
       " 'lecun_normal',\n",
       " 'lecun_uniform',\n",
       " 'ones',\n",
       " 'orthogonal',\n",
       " 'random_normal',\n",
       " 'random_uniform',\n",
       " 'serialize',\n",
       " 'truncated_normal',\n",
       " 'variance_scaling',\n",
       " 'zeros']"
      ]
     },
     "execution_count": 3,
     "metadata": {},
     "output_type": "execute_result"
    }
   ],
   "source": [
    "[name for name in dir(keras.initializers) if not name.startswith(\"_\")]"
   ]
  },
  {
   "cell_type": "code",
   "execution_count": 4,
   "id": "4d8a78db",
   "metadata": {},
   "outputs": [],
   "source": [
    "from sklearn.datasets import fetch_california_housing\n",
    "from sklearn.model_selection import train_test_split\n",
    "from sklearn.preprocessing import StandardScaler\n",
    "\n",
    "housing = fetch_california_housing()\n",
    "X_train_full, X_test, y_train_full, y_test = train_test_split(housing.data, housing.target)\n",
    "X_train, X_valid, y_train, y_valid = train_test_split(X_train_full, y_train_full)"
   ]
  },
  {
   "cell_type": "code",
   "execution_count": 5,
   "id": "fda50d29",
   "metadata": {},
   "outputs": [],
   "source": [
    "scaler = StandardScaler()\n",
    "X_train = scaler.fit_transform(X_train)\n",
    "X_valid = scaler.transform(X_valid)\n",
    "X_test = scaler.transform(X_test)"
   ]
  },
  {
   "cell_type": "code",
   "execution_count": 6,
   "id": "9127debf",
   "metadata": {},
   "outputs": [
    {
     "data": {
      "text/plain": [
       "(3870, 8)"
      ]
     },
     "execution_count": 6,
     "metadata": {},
     "output_type": "execute_result"
    }
   ],
   "source": [
    "X_valid.shape"
   ]
  },
  {
   "cell_type": "code",
   "execution_count": 7,
   "id": "9d3ecbfc",
   "metadata": {},
   "outputs": [],
   "source": [
    "he_avg_init = keras.initializers.VarianceScaling(scale=2., mode=\"fan_avg\",\n",
    "                                                distribution='uniform')"
   ]
  },
  {
   "cell_type": "code",
   "execution_count": 8,
   "id": "6897974c",
   "metadata": {},
   "outputs": [],
   "source": [
    "model = keras.models.Sequential([\n",
    "    keras.layers.Dense(30, activation=\"relu\", kernel_initializer='he_normal',\n",
    "                       input_shape=X_train[1].shape),\n",
    "    keras.layers.Dense(1, activation=\"relu\", kernel_initializer=he_avg_init)\n",
    "])"
   ]
  },
  {
   "cell_type": "code",
   "execution_count": 9,
   "id": "76358f88",
   "metadata": {},
   "outputs": [
    {
     "name": "stdout",
     "output_type": "stream",
     "text": [
      "Model: \"sequential\"\n",
      "_________________________________________________________________\n",
      " Layer (type)                Output Shape              Param #   \n",
      "=================================================================\n",
      " dense (Dense)               (None, 30)                270       \n",
      "                                                                 \n",
      " dense_1 (Dense)             (None, 1)                 31        \n",
      "                                                                 \n",
      "=================================================================\n",
      "Total params: 301\n",
      "Trainable params: 301\n",
      "Non-trainable params: 0\n",
      "_________________________________________________________________\n"
     ]
    }
   ],
   "source": [
    "model.summary()"
   ]
  },
  {
   "cell_type": "code",
   "execution_count": 10,
   "id": "b30a2236",
   "metadata": {},
   "outputs": [],
   "source": [
    "model.compile(loss=keras.losses.mean_squared_error, optimizer = keras.optimizers.SGD())"
   ]
  },
  {
   "cell_type": "code",
   "execution_count": 11,
   "id": "0e6460ee",
   "metadata": {},
   "outputs": [
    {
     "name": "stdout",
     "output_type": "stream",
     "text": [
      "Epoch 1/10\n",
      "363/363 [==============================] - 2s 3ms/step - loss: 2.5739 - val_loss: 0.7429\n",
      "Epoch 2/10\n",
      "363/363 [==============================] - 1s 2ms/step - loss: 0.6588 - val_loss: 0.4988\n",
      "Epoch 3/10\n",
      "363/363 [==============================] - 1s 2ms/step - loss: 0.4969 - val_loss: 0.4814\n",
      "Epoch 4/10\n",
      "363/363 [==============================] - 1s 2ms/step - loss: 0.4673 - val_loss: 0.4404\n",
      "Epoch 5/10\n",
      "363/363 [==============================] - 1s 2ms/step - loss: 0.4472 - val_loss: 0.4279\n",
      "Epoch 6/10\n",
      "363/363 [==============================] - 1s 2ms/step - loss: 0.4443 - val_loss: 0.4278\n",
      "Epoch 7/10\n",
      "363/363 [==============================] - 1s 2ms/step - loss: 0.4337 - val_loss: 0.4997\n",
      "Epoch 8/10\n",
      "363/363 [==============================] - 1s 2ms/step - loss: 0.4466 - val_loss: 0.4160\n",
      "Epoch 9/10\n",
      "363/363 [==============================] - 1s 2ms/step - loss: 0.4221 - val_loss: 0.4085\n",
      "Epoch 10/10\n",
      "363/363 [==============================] - 1s 2ms/step - loss: 0.4115 - val_loss: 0.4032\n"
     ]
    },
    {
     "data": {
      "text/plain": [
       "<keras.callbacks.History at 0x22fd7cae110>"
      ]
     },
     "execution_count": 11,
     "metadata": {},
     "output_type": "execute_result"
    }
   ],
   "source": [
    "model.fit(X_train, y_train, epochs=10, validation_data=(X_valid, y_valid))"
   ]
  },
  {
   "cell_type": "code",
   "execution_count": 12,
   "id": "e7743a1d",
   "metadata": {},
   "outputs": [
    {
     "data": {
      "text/plain": [
       "array([3.552, 0.634, 1.382, ..., 3.029, 2.167, 0.784])"
      ]
     },
     "execution_count": 12,
     "metadata": {},
     "output_type": "execute_result"
    }
   ],
   "source": [
    "y_train"
   ]
  },
  {
   "cell_type": "markdown",
   "id": "5215452a",
   "metadata": {},
   "source": [
    "### Nonsaturating Activation Functions"
   ]
  },
  {
   "cell_type": "code",
   "execution_count": 13,
   "id": "c2181a41",
   "metadata": {},
   "outputs": [
    {
     "data": {
      "text/plain": [
       "['deserialize',\n",
       " 'elu',\n",
       " 'exponential',\n",
       " 'gelu',\n",
       " 'get',\n",
       " 'hard_sigmoid',\n",
       " 'linear',\n",
       " 'relu',\n",
       " 'selu',\n",
       " 'serialize',\n",
       " 'sigmoid',\n",
       " 'softmax',\n",
       " 'softplus',\n",
       " 'softsign',\n",
       " 'swish',\n",
       " 'tanh']"
      ]
     },
     "execution_count": 13,
     "metadata": {},
     "output_type": "execute_result"
    }
   ],
   "source": [
    "[m for m in dir(keras.activations) if not m.startswith(\"_\")]"
   ]
  },
  {
   "cell_type": "code",
   "execution_count": 14,
   "id": "2a2a2c13",
   "metadata": {},
   "outputs": [
    {
     "data": {
      "text/plain": [
       "['LeakyReLU', 'PReLU', 'ReLU', 'ThresholdedReLU']"
      ]
     },
     "execution_count": 14,
     "metadata": {},
     "output_type": "execute_result"
    }
   ],
   "source": [
    "[m for m in dir(keras.layers) if \"relu\" in m.lower()]"
   ]
  },
  {
   "cell_type": "code",
   "execution_count": 15,
   "id": "7cf31495",
   "metadata": {},
   "outputs": [],
   "source": [
    "leaky_relu = keras.layers.LeakyReLU(alpha=0.2)\n",
    "layer = keras.layers.Dense(10, activation=leaky_relu, kernel_initializer='he_normal')"
   ]
  },
  {
   "cell_type": "code",
   "execution_count": 16,
   "id": "20419d12",
   "metadata": {},
   "outputs": [],
   "source": [
    "p_relu = keras.layers.PReLU()"
   ]
  },
  {
   "cell_type": "code",
   "execution_count": 17,
   "id": "35b19091",
   "metadata": {},
   "outputs": [],
   "source": [
    "selu = keras.layers.Dense(10, activation='selu',\n",
    "                          kernel_initializer='lecun_normal')"
   ]
  },
  {
   "cell_type": "markdown",
   "id": "3427b40c",
   "metadata": {},
   "source": [
    "**Using Leaky Relu to train**"
   ]
  },
  {
   "cell_type": "code",
   "execution_count": 18,
   "id": "02e29af3",
   "metadata": {},
   "outputs": [],
   "source": [
    "(X_train_full, y_train_full), (X_test, y_test) = keras.datasets.fashion_mnist.load_data()\n",
    "X_train_full = X_train_full / 255.0\n",
    "X_test = X_test / 255.0\n",
    "X_valid, X_train = X_train_full[:5000], X_train_full[5000:]\n",
    "y_valid, y_train = y_train_full[:5000], y_train_full[5000:]"
   ]
  },
  {
   "cell_type": "code",
   "execution_count": 19,
   "id": "046aa89b",
   "metadata": {},
   "outputs": [],
   "source": [
    "\n",
    "tf.random.set_seed(42)\n",
    "np.random.seed(42)\n",
    "\n",
    "model = keras.models.Sequential([\n",
    "    keras.layers.Flatten(input_shape=[28, 28]),\n",
    "    keras.layers.Dense(300, kernel_initializer=\"he_normal\"),\n",
    "    keras.layers.LeakyReLU(),\n",
    "    keras.layers.Dense(100, kernel_initializer=\"he_normal\"),\n",
    "    keras.layers.LeakyReLU(),\n",
    "    keras.layers.Dense(10, activation=\"softmax\")\n",
    "])"
   ]
  },
  {
   "cell_type": "code",
   "execution_count": 20,
   "id": "fa2546f6",
   "metadata": {},
   "outputs": [],
   "source": [
    "model.compile(loss=\"sparse_categorical_crossentropy\",\n",
    "              optimizer=keras.optimizers.SGD(learning_rate=1e-3),\n",
    "              metrics=[\"accuracy\"])"
   ]
  },
  {
   "cell_type": "code",
   "execution_count": 21,
   "id": "8eba2165",
   "metadata": {},
   "outputs": [
    {
     "name": "stdout",
     "output_type": "stream",
     "text": [
      "Epoch 1/10\n",
      "1719/1719 [==============================] - 7s 4ms/step - loss: 1.2856 - accuracy: 0.5973 - val_loss: 0.8662 - val_accuracy: 0.7236\n",
      "Epoch 2/10\n",
      "1719/1719 [==============================] - 6s 3ms/step - loss: 0.7828 - accuracy: 0.7441 - val_loss: 0.6970 - val_accuracy: 0.7750\n",
      "Epoch 3/10\n",
      "1719/1719 [==============================] - 6s 3ms/step - loss: 0.6718 - accuracy: 0.7788 - val_loss: 0.6307 - val_accuracy: 0.7902\n",
      "Epoch 4/10\n",
      "1719/1719 [==============================] - 6s 3ms/step - loss: 0.6139 - accuracy: 0.7971 - val_loss: 0.5785 - val_accuracy: 0.8078\n",
      "Epoch 5/10\n",
      "1719/1719 [==============================] - 6s 3ms/step - loss: 0.5768 - accuracy: 0.8082 - val_loss: 0.5481 - val_accuracy: 0.8182\n",
      "Epoch 6/10\n",
      "1719/1719 [==============================] - 6s 3ms/step - loss: 0.5504 - accuracy: 0.8156 - val_loss: 0.5266 - val_accuracy: 0.8274\n",
      "Epoch 7/10\n",
      "1719/1719 [==============================] - 6s 4ms/step - loss: 0.5305 - accuracy: 0.8215 - val_loss: 0.5085 - val_accuracy: 0.8322\n",
      "Epoch 8/10\n",
      "1719/1719 [==============================] - 6s 3ms/step - loss: 0.5153 - accuracy: 0.8255 - val_loss: 0.5010 - val_accuracy: 0.8350\n",
      "Epoch 9/10\n",
      "1719/1719 [==============================] - 6s 4ms/step - loss: 0.5029 - accuracy: 0.8287 - val_loss: 0.4851 - val_accuracy: 0.8382\n",
      "Epoch 10/10\n",
      "1719/1719 [==============================] - 6s 3ms/step - loss: 0.4921 - accuracy: 0.8310 - val_loss: 0.4784 - val_accuracy: 0.8398\n"
     ]
    }
   ],
   "source": [
    "history = model.fit(X_train, y_train, epochs=10,\n",
    "                    validation_data=(X_valid, y_valid))"
   ]
  },
  {
   "cell_type": "markdown",
   "id": "7c0500b5",
   "metadata": {},
   "source": [
    "**Using PRelu to train**"
   ]
  },
  {
   "cell_type": "code",
   "execution_count": 22,
   "id": "90e1f3ad",
   "metadata": {},
   "outputs": [],
   "source": [
    "tf.random.set_seed(42)\n",
    "np.random.seed(42)\n",
    "\n",
    "model = keras.models.Sequential([\n",
    "    keras.layers.Flatten(input_shape=[28, 28]),\n",
    "    keras.layers.Dense(300, kernel_initializer=\"he_normal\"),\n",
    "    keras.layers.PReLU(),\n",
    "    keras.layers.Dense(100, kernel_initializer=\"he_normal\"),\n",
    "    keras.layers.PReLU(),\n",
    "    keras.layers.Dense(10, activation=\"softmax\")\n",
    "])"
   ]
  },
  {
   "cell_type": "code",
   "execution_count": 23,
   "id": "7e2a9f77",
   "metadata": {},
   "outputs": [],
   "source": [
    "model.compile(loss=\"sparse_categorical_crossentropy\",\n",
    "              optimizer=keras.optimizers.SGD(learning_rate=1e-3),\n",
    "              metrics=[\"accuracy\"])"
   ]
  },
  {
   "cell_type": "code",
   "execution_count": 24,
   "id": "bb28bb2b",
   "metadata": {},
   "outputs": [
    {
     "name": "stdout",
     "output_type": "stream",
     "text": [
      "Epoch 1/10\n",
      "1719/1719 [==============================] - 7s 3ms/step - loss: 1.3243 - accuracy: 0.6133 - val_loss: 0.8863 - val_accuracy: 0.7244\n",
      "Epoch 2/10\n",
      "1719/1719 [==============================] - 6s 4ms/step - loss: 0.7949 - accuracy: 0.7423 - val_loss: 0.7058 - val_accuracy: 0.7682\n",
      "Epoch 3/10\n",
      "1719/1719 [==============================] - 7s 4ms/step - loss: 0.6798 - accuracy: 0.7769 - val_loss: 0.6395 - val_accuracy: 0.7902\n",
      "Epoch 4/10\n",
      "1719/1719 [==============================] - 7s 4ms/step - loss: 0.6208 - accuracy: 0.7956 - val_loss: 0.5855 - val_accuracy: 0.8118\n",
      "Epoch 5/10\n",
      "1719/1719 [==============================] - 7s 4ms/step - loss: 0.5829 - accuracy: 0.8067 - val_loss: 0.5537 - val_accuracy: 0.8212\n",
      "Epoch 6/10\n",
      "1719/1719 [==============================] - 6s 4ms/step - loss: 0.5555 - accuracy: 0.8130 - val_loss: 0.5309 - val_accuracy: 0.8254\n",
      "Epoch 7/10\n",
      "1719/1719 [==============================] - 7s 4ms/step - loss: 0.5344 - accuracy: 0.8196 - val_loss: 0.5116 - val_accuracy: 0.8336\n",
      "Epoch 8/10\n",
      "1719/1719 [==============================] - 7s 4ms/step - loss: 0.5177 - accuracy: 0.8246 - val_loss: 0.5031 - val_accuracy: 0.8316\n",
      "Epoch 9/10\n",
      "1719/1719 [==============================] - 7s 4ms/step - loss: 0.5043 - accuracy: 0.8285 - val_loss: 0.4852 - val_accuracy: 0.8380\n",
      "Epoch 10/10\n",
      "1719/1719 [==============================] - 6s 4ms/step - loss: 0.4923 - accuracy: 0.8320 - val_loss: 0.4774 - val_accuracy: 0.8402\n"
     ]
    }
   ],
   "source": [
    "\n",
    "history = model.fit(X_train, y_train, epochs=10,\n",
    "                    validation_data=(X_valid, y_valid))"
   ]
  },
  {
   "cell_type": "markdown",
   "id": "cb0b221d",
   "metadata": {},
   "source": [
    "**Using SELU is easy**"
   ]
  },
  {
   "cell_type": "code",
   "execution_count": 25,
   "id": "759b43d1",
   "metadata": {},
   "outputs": [
    {
     "data": {
      "text/plain": [
       "<keras.layers.core.dense.Dense at 0x22fdc14ed40>"
      ]
     },
     "execution_count": 25,
     "metadata": {},
     "output_type": "execute_result"
    }
   ],
   "source": [
    "keras.layers.Dense(10, activation=\"selu\",\n",
    "                   kernel_initializer=\"lecun_normal\")"
   ]
  },
  {
   "cell_type": "code",
   "execution_count": 26,
   "id": "8d47afb0",
   "metadata": {},
   "outputs": [],
   "source": [
    "np.random.seed(42)\n",
    "tf.random.set_seed(42)"
   ]
  },
  {
   "cell_type": "code",
   "execution_count": 27,
   "id": "46eee336",
   "metadata": {},
   "outputs": [],
   "source": [
    "model = keras.models.Sequential()\n",
    "model.add(keras.layers.Flatten(input_shape=[28, 28]))\n",
    "model.add(keras.layers.Dense(300, activation=\"selu\",\n",
    "                             kernel_initializer=\"lecun_normal\"))\n",
    "for layer in range(99):\n",
    "    model.add(keras.layers.Dense(100, activation=\"selu\",\n",
    "                                 kernel_initializer=\"lecun_normal\"))\n",
    "model.add(keras.layers.Dense(10, activation=\"softmax\"))"
   ]
  },
  {
   "cell_type": "code",
   "execution_count": 28,
   "id": "fa911bcf",
   "metadata": {},
   "outputs": [],
   "source": [
    "model.compile(loss=\"sparse_categorical_crossentropy\",\n",
    "              optimizer=keras.optimizers.SGD(learning_rate=1e-3),\n",
    "              metrics=[\"accuracy\"])"
   ]
  },
  {
   "cell_type": "code",
   "execution_count": 29,
   "id": "a42d83df",
   "metadata": {},
   "outputs": [],
   "source": [
    "pixel_means = X_train.mean(axis=0, keepdims=True)\n",
    "pixel_stds = X_train.std(axis=0, keepdims=True)\n",
    "X_train_scaled = (X_train - pixel_means) / pixel_stds\n",
    "X_valid_scaled = (X_valid - pixel_means) / pixel_stds\n",
    "X_test_scaled = (X_test - pixel_means) / pixel_stds"
   ]
  },
  {
   "cell_type": "code",
   "execution_count": 30,
   "id": "c8d28694",
   "metadata": {},
   "outputs": [
    {
     "name": "stdout",
     "output_type": "stream",
     "text": [
      "Epoch 1/5\n",
      "1719/1719 [==============================] - 46s 20ms/step - loss: 1.3856 - accuracy: 0.4389 - val_loss: 1.1629 - val_accuracy: 0.5092\n",
      "Epoch 2/5\n",
      "1719/1719 [==============================] - 33s 19ms/step - loss: 1.0532 - accuracy: 0.5843 - val_loss: 0.7763 - val_accuracy: 0.7220\n",
      "Epoch 3/5\n",
      "1719/1719 [==============================] - 34s 20ms/step - loss: 1.2649 - accuracy: 0.4836 - val_loss: 1.0595 - val_accuracy: 0.6052\n",
      "Epoch 4/5\n",
      "1719/1719 [==============================] - 31s 18ms/step - loss: 1.1277 - accuracy: 0.5624 - val_loss: 1.9945 - val_accuracy: 0.2312\n",
      "Epoch 5/5\n",
      "1719/1719 [==============================] - 34s 20ms/step - loss: 1.7816 - accuracy: 0.3065 - val_loss: 1.6230 - val_accuracy: 0.3876\n"
     ]
    }
   ],
   "source": [
    "history = model.fit(X_train_scaled, y_train, epochs=5,\n",
    "                    validation_data=(X_valid_scaled, y_valid))"
   ]
  },
  {
   "cell_type": "code",
   "execution_count": 31,
   "id": "b86d10f6",
   "metadata": {},
   "outputs": [],
   "source": [
    "def elu(z, alpha=1):\n",
    "    return np.where(z < 0, alpha * (np.exp(z) - 1), z)"
   ]
  },
  {
   "cell_type": "code",
   "execution_count": 32,
   "id": "7b9af5c2",
   "metadata": {},
   "outputs": [],
   "source": [
    "from scipy.special import erfc\n",
    "\n",
    "# alpha and scale to self normalize with mean 0 and standard deviation 1\n",
    "# (see equation 14 in the paper):\n",
    "alpha_0_1 = -np.sqrt(2 / np.pi) / (erfc(1/np.sqrt(2)) * np.exp(1/2) - 1)\n",
    "scale_0_1 = (1 - erfc(1 / np.sqrt(2)) * np.sqrt(np.e)) * np.sqrt(2 * np.pi) * (2 * erfc(np.sqrt(2))*np.e**2 + np.pi*erfc(1/np.sqrt(2))**2*np.e - 2*(2+np.pi)*erfc(1/np.sqrt(2))*np.sqrt(np.e)+np.pi+2)**(-1/2)"
   ]
  },
  {
   "cell_type": "code",
   "execution_count": 33,
   "id": "6efaece7",
   "metadata": {},
   "outputs": [],
   "source": [
    "def selu(z, scale=scale_0_1, alpha=alpha_0_1):\n",
    "    return scale * elu(z, alpha)"
   ]
  },
  {
   "cell_type": "code",
   "execution_count": 34,
   "id": "1cf68e63",
   "metadata": {},
   "outputs": [
    {
     "name": "stdout",
     "output_type": "stream",
     "text": [
      "Layer 0: mean -0.00, std deviation 1.00\n",
      "Layer 100: mean 0.02, std deviation 0.96\n",
      "Layer 200: mean 0.01, std deviation 0.90\n",
      "Layer 300: mean -0.02, std deviation 0.92\n",
      "Layer 400: mean 0.05, std deviation 0.89\n",
      "Layer 500: mean 0.01, std deviation 0.93\n",
      "Layer 600: mean 0.02, std deviation 0.92\n",
      "Layer 700: mean -0.02, std deviation 0.90\n",
      "Layer 800: mean 0.05, std deviation 0.83\n",
      "Layer 900: mean 0.02, std deviation 1.00\n"
     ]
    }
   ],
   "source": [
    "np.random.seed(42)\n",
    "Z = np.random.normal(size=(500, 100)) # standardized inputs\n",
    "for layer in range(1000):\n",
    "    W = np.random.normal(size=(100, 100), scale=np.sqrt(1 / 100)) # LeCun initialization\n",
    "    Z = selu(np.dot(Z, W))\n",
    "    means = np.mean(Z, axis=0).mean()\n",
    "    stds = np.std(Z, axis=0).mean()\n",
    "    if layer % 100 == 0:\n",
    "        print(\"Layer {}: mean {:.2f}, std deviation {:.2f}\".format(layer, means, stds))"
   ]
  },
  {
   "cell_type": "markdown",
   "id": "15ace9cf",
   "metadata": {},
   "source": [
    "### Batch Normallization"
   ]
  },
  {
   "cell_type": "code",
   "execution_count": 35,
   "id": "ca065a83",
   "metadata": {},
   "outputs": [],
   "source": [
    "model = keras.models.Sequential([\n",
    "    keras.layers.Flatten(input_shape=[28, 28]),\n",
    "    keras.layers.BatchNormalization(),\n",
    "    keras.layers.Dense(300, activation='elu', kernel_initializer='he_normal'),\n",
    "    keras.layers.BatchNormalization(),\n",
    "    keras.layers.Dense(100, activation='elu', kernel_initializer='he_normal'),\n",
    "    keras.layers.BatchNormalization(),\n",
    "    keras.layers.Dense(10, activation='softmax')    \n",
    "])"
   ]
  },
  {
   "cell_type": "code",
   "execution_count": 36,
   "id": "e1767ddd",
   "metadata": {},
   "outputs": [
    {
     "name": "stdout",
     "output_type": "stream",
     "text": [
      "Model: \"sequential_4\"\n",
      "_________________________________________________________________\n",
      " Layer (type)                Output Shape              Param #   \n",
      "=================================================================\n",
      " flatten_3 (Flatten)         (None, 784)               0         \n",
      "                                                                 \n",
      " batch_normalization (BatchN  (None, 784)              3136      \n",
      " ormalization)                                                   \n",
      "                                                                 \n",
      " dense_112 (Dense)           (None, 300)               235500    \n",
      "                                                                 \n",
      " batch_normalization_1 (Batc  (None, 300)              1200      \n",
      " hNormalization)                                                 \n",
      "                                                                 \n",
      " dense_113 (Dense)           (None, 100)               30100     \n",
      "                                                                 \n",
      " batch_normalization_2 (Batc  (None, 100)              400       \n",
      " hNormalization)                                                 \n",
      "                                                                 \n",
      " dense_114 (Dense)           (None, 10)                1010      \n",
      "                                                                 \n",
      "=================================================================\n",
      "Total params: 271,346\n",
      "Trainable params: 268,978\n",
      "Non-trainable params: 2,368\n",
      "_________________________________________________________________\n"
     ]
    }
   ],
   "source": [
    "model.summary()"
   ]
  },
  {
   "cell_type": "code",
   "execution_count": 37,
   "id": "0e845b22",
   "metadata": {},
   "outputs": [],
   "source": [
    "model.compile(loss=\"sparse_categorical_crossentropy\",\n",
    "              optimizer=keras.optimizers.SGD(learning_rate=1e-3),\n",
    "              metrics=[\"accuracy\"])"
   ]
  },
  {
   "cell_type": "code",
   "execution_count": 38,
   "id": "c06a51d0",
   "metadata": {},
   "outputs": [
    {
     "name": "stdout",
     "output_type": "stream",
     "text": [
      "Epoch 1/10\n",
      "1719/1719 [==============================] - 11s 5ms/step - loss: 0.8533 - accuracy: 0.7119 - val_loss: 0.5901 - val_accuracy: 0.8012\n",
      "Epoch 2/10\n",
      "1719/1719 [==============================] - 8s 5ms/step - loss: 0.5930 - accuracy: 0.7949 - val_loss: 0.5103 - val_accuracy: 0.8266\n",
      "Epoch 3/10\n",
      "1719/1719 [==============================] - 8s 4ms/step - loss: 0.5404 - accuracy: 0.8114 - val_loss: 0.4761 - val_accuracy: 0.8346\n",
      "Epoch 4/10\n",
      "1719/1719 [==============================] - 10s 6ms/step - loss: 0.5074 - accuracy: 0.8245 - val_loss: 0.4532 - val_accuracy: 0.8434\n",
      "Epoch 5/10\n",
      "1719/1719 [==============================] - 9s 5ms/step - loss: 0.4851 - accuracy: 0.8301 - val_loss: 0.4370 - val_accuracy: 0.8476\n",
      "Epoch 6/10\n",
      "1719/1719 [==============================] - 9s 5ms/step - loss: 0.4716 - accuracy: 0.8353 - val_loss: 0.4251 - val_accuracy: 0.8518\n",
      "Epoch 7/10\n",
      "1719/1719 [==============================] - 10s 6ms/step - loss: 0.4590 - accuracy: 0.8398 - val_loss: 0.4137 - val_accuracy: 0.8572\n",
      "Epoch 8/10\n",
      "1719/1719 [==============================] - 9s 5ms/step - loss: 0.4491 - accuracy: 0.8422 - val_loss: 0.4076 - val_accuracy: 0.8596\n",
      "Epoch 9/10\n",
      "1719/1719 [==============================] - 9s 5ms/step - loss: 0.4387 - accuracy: 0.8463 - val_loss: 0.4004 - val_accuracy: 0.8650\n",
      "Epoch 10/10\n",
      "1719/1719 [==============================] - 9s 5ms/step - loss: 0.4299 - accuracy: 0.8487 - val_loss: 0.3941 - val_accuracy: 0.8632\n"
     ]
    }
   ],
   "source": [
    "history = model.fit(X_train, y_train, epochs=10,\n",
    "                    validation_data=(X_valid, y_valid))"
   ]
  },
  {
   "cell_type": "code",
   "execution_count": 39,
   "id": "9eab4f1e",
   "metadata": {},
   "outputs": [
    {
     "data": {
      "text/plain": [
       "[('batch_normalization/gamma:0', True),\n",
       " ('batch_normalization/beta:0', True),\n",
       " ('batch_normalization/moving_mean:0', False),\n",
       " ('batch_normalization/moving_variance:0', False)]"
      ]
     },
     "execution_count": 39,
     "metadata": {},
     "output_type": "execute_result"
    }
   ],
   "source": [
    "[(var.name, var.trainable) for var in model.layers[1].variables]"
   ]
  },
  {
   "cell_type": "code",
   "execution_count": 40,
   "id": "45ff89e9",
   "metadata": {},
   "outputs": [],
   "source": [
    "model = keras.models.Sequential([\n",
    "    keras.layers.Flatten(input_shape=[28, 28]),\n",
    "    keras.layers.BatchNormalization(),\n",
    "    keras.layers.Dense(300, kernel_initializer='he_normal', use_bias=False),\n",
    "    keras.layers.BatchNormalization(),\n",
    "    keras.layers.Activation('elu'),\n",
    "    keras.layers.Dense(100, kernel_initializer='he_normal', use_bias=False),\n",
    "    keras.layers.BatchNormalization(),\n",
    "    keras.layers.Activation('elu'),\n",
    "    keras.layers.Dense(10, activation='softmax')  \n",
    "])"
   ]
  },
  {
   "cell_type": "code",
   "execution_count": 41,
   "id": "26fa341d",
   "metadata": {},
   "outputs": [
    {
     "name": "stdout",
     "output_type": "stream",
     "text": [
      "Model: \"sequential_5\"\n",
      "_________________________________________________________________\n",
      " Layer (type)                Output Shape              Param #   \n",
      "=================================================================\n",
      " flatten_4 (Flatten)         (None, 784)               0         \n",
      "                                                                 \n",
      " batch_normalization_3 (Batc  (None, 784)              3136      \n",
      " hNormalization)                                                 \n",
      "                                                                 \n",
      " dense_115 (Dense)           (None, 300)               235200    \n",
      "                                                                 \n",
      " batch_normalization_4 (Batc  (None, 300)              1200      \n",
      " hNormalization)                                                 \n",
      "                                                                 \n",
      " activation (Activation)     (None, 300)               0         \n",
      "                                                                 \n",
      " dense_116 (Dense)           (None, 100)               30000     \n",
      "                                                                 \n",
      " batch_normalization_5 (Batc  (None, 100)              400       \n",
      " hNormalization)                                                 \n",
      "                                                                 \n",
      " activation_1 (Activation)   (None, 100)               0         \n",
      "                                                                 \n",
      " dense_117 (Dense)           (None, 10)                1010      \n",
      "                                                                 \n",
      "=================================================================\n",
      "Total params: 270,946\n",
      "Trainable params: 268,578\n",
      "Non-trainable params: 2,368\n",
      "_________________________________________________________________\n"
     ]
    }
   ],
   "source": [
    "model.summary()"
   ]
  },
  {
   "cell_type": "code",
   "execution_count": 42,
   "id": "25d64666",
   "metadata": {},
   "outputs": [],
   "source": [
    "model.compile(loss=\"sparse_categorical_crossentropy\",\n",
    "              optimizer=keras.optimizers.SGD(learning_rate=1e-3),\n",
    "              metrics=[\"accuracy\"])"
   ]
  },
  {
   "cell_type": "code",
   "execution_count": 43,
   "id": "260f490f",
   "metadata": {},
   "outputs": [
    {
     "name": "stdout",
     "output_type": "stream",
     "text": [
      "Epoch 1/10\n",
      "1719/1719 [==============================] - 10s 5ms/step - loss: 0.9337 - accuracy: 0.6881 - val_loss: 0.6337 - val_accuracy: 0.7964\n",
      "Epoch 2/10\n",
      "1719/1719 [==============================] - 9s 5ms/step - loss: 0.6327 - accuracy: 0.7872 - val_loss: 0.5426 - val_accuracy: 0.8234\n",
      "Epoch 3/10\n",
      "1719/1719 [==============================] - 9s 5ms/step - loss: 0.5717 - accuracy: 0.8053 - val_loss: 0.5026 - val_accuracy: 0.8362\n",
      "Epoch 4/10\n",
      "1719/1719 [==============================] - 10s 6ms/step - loss: 0.5344 - accuracy: 0.8179 - val_loss: 0.4774 - val_accuracy: 0.8424\n",
      "Epoch 5/10\n",
      "1719/1719 [==============================] - 9s 5ms/step - loss: 0.5098 - accuracy: 0.8236 - val_loss: 0.4604 - val_accuracy: 0.8486\n",
      "Epoch 6/10\n",
      "1719/1719 [==============================] - 8s 5ms/step - loss: 0.4941 - accuracy: 0.8283 - val_loss: 0.4464 - val_accuracy: 0.8534\n",
      "Epoch 7/10\n",
      "1719/1719 [==============================] - 7s 4ms/step - loss: 0.4822 - accuracy: 0.8326 - val_loss: 0.4352 - val_accuracy: 0.8530\n",
      "Epoch 8/10\n",
      "1719/1719 [==============================] - 7s 4ms/step - loss: 0.4708 - accuracy: 0.8365 - val_loss: 0.4276 - val_accuracy: 0.8564\n",
      "Epoch 9/10\n",
      "1719/1719 [==============================] - 7s 4ms/step - loss: 0.4599 - accuracy: 0.8408 - val_loss: 0.4199 - val_accuracy: 0.8582\n",
      "Epoch 10/10\n",
      "1719/1719 [==============================] - 8s 5ms/step - loss: 0.4515 - accuracy: 0.8430 - val_loss: 0.4135 - val_accuracy: 0.8596\n"
     ]
    }
   ],
   "source": [
    "history = model.fit(X_train, y_train, epochs=10,\n",
    "                    validation_data=(X_valid, y_valid))"
   ]
  },
  {
   "cell_type": "markdown",
   "id": "d611f112",
   "metadata": {},
   "source": [
    "### Gradient Clipping"
   ]
  },
  {
   "cell_type": "code",
   "execution_count": 44,
   "id": "06ba8171",
   "metadata": {},
   "outputs": [],
   "source": [
    "optimizer = keras.optimizers.SGD(clipvalue=1.0)\n",
    "optimizer = keras.optimizers.SGD(clipnorm=1.0)"
   ]
  },
  {
   "cell_type": "markdown",
   "id": "847e2bf0",
   "metadata": {},
   "source": [
    "# Reusing Pretrained Layers"
   ]
  },
  {
   "cell_type": "markdown",
   "id": "04c85433",
   "metadata": {},
   "source": [
    "### Transfer Learning With Keras"
   ]
  },
  {
   "cell_type": "markdown",
   "id": "6505a9ac",
   "metadata": {},
   "source": [
    "X_train_A: all images of all items except for sandals and shirts (classes 5 and 6).\n",
    "\n",
    "X_train_B: a much smaller training set of just the first 200 images of sandals or shirts."
   ]
  },
  {
   "cell_type": "code",
   "execution_count": 45,
   "id": "60d0a13b",
   "metadata": {},
   "outputs": [],
   "source": [
    "def split_dataset(X, y):\n",
    "    y_5_or_6 = (y == 5) | (y == 6) # 'Sandal' & 'Áo sơ mi'\n",
    "    y_A = y[~y_5_or_6]\n",
    "    y_A[y_A > 6] -= 2\n",
    "    y_B = (y[y_5_or_6] == 6).astype(np.float32)\n",
    "    return ((X[~y_5_or_6], y_A), (X[y_5_or_6], y_B))\n",
    "    "
   ]
  },
  {
   "cell_type": "code",
   "execution_count": 46,
   "id": "7e0386d5",
   "metadata": {},
   "outputs": [],
   "source": [
    "(X_train_A, y_train_A), (X_train_B, y_train_B) = split_dataset(X_train, y_train)\n",
    "(X_valid_A, y_valid_A), (X_valid_B, y_valid_B) = split_dataset(X_valid, y_valid)\n",
    "(X_test_A, y_test_A), (X_test_B, y_test_B) = split_dataset(X_test, y_test)\n",
    "X_train_B = X_train_B[:200]\n",
    "y_train_B = y_train_B[:200]"
   ]
  },
  {
   "cell_type": "code",
   "execution_count": 47,
   "id": "95ca02ea",
   "metadata": {},
   "outputs": [
    {
     "data": {
      "text/plain": [
       "((43986, 28, 28), (200, 28, 28))"
      ]
     },
     "execution_count": 47,
     "metadata": {},
     "output_type": "execute_result"
    }
   ],
   "source": [
    "X_train_A.shape, X_train_B.shape"
   ]
  },
  {
   "cell_type": "code",
   "execution_count": 48,
   "id": "a7df42b7",
   "metadata": {},
   "outputs": [
    {
     "data": {
      "text/plain": [
       "array([4, 0, 5, 7, 7, 7, 4, 4, 3, 4], dtype=uint8)"
      ]
     },
     "execution_count": 48,
     "metadata": {},
     "output_type": "execute_result"
    }
   ],
   "source": [
    "y_train_A[:10]"
   ]
  },
  {
   "cell_type": "code",
   "execution_count": 49,
   "id": "08d30849",
   "metadata": {},
   "outputs": [
    {
     "data": {
      "text/plain": [
       "array([1., 1., 0., 0., 0., 0., 1., 1., 1., 0.], dtype=float32)"
      ]
     },
     "execution_count": 49,
     "metadata": {},
     "output_type": "execute_result"
    }
   ],
   "source": [
    "y_train_B[:10]"
   ]
  },
  {
   "cell_type": "code",
   "execution_count": 50,
   "id": "5fced84e",
   "metadata": {},
   "outputs": [],
   "source": [
    "tf.random.set_seed(42)\n",
    "np.random.seed(42)"
   ]
  },
  {
   "cell_type": "code",
   "execution_count": 51,
   "id": "c098a703",
   "metadata": {},
   "outputs": [],
   "source": [
    "model_A = keras.models.Sequential()\n",
    "model_A.add(keras.layers.Flatten(input_shape=[28, 28]))\n",
    "for n_hidden in (300, 100, 50, 50, 50):\n",
    "    model_A.add(keras.layers.Dense(n_hidden, activation='selu', kernel_initializer='lecun_normal'))\n",
    "model_A.add(keras.layers.Dense(8, activation='softmax'))"
   ]
  },
  {
   "cell_type": "code",
   "execution_count": 52,
   "id": "4870da54",
   "metadata": {},
   "outputs": [
    {
     "name": "stdout",
     "output_type": "stream",
     "text": [
      "Model: \"sequential_6\"\n",
      "_________________________________________________________________\n",
      " Layer (type)                Output Shape              Param #   \n",
      "=================================================================\n",
      " flatten_5 (Flatten)         (None, 784)               0         \n",
      "                                                                 \n",
      " dense_118 (Dense)           (None, 300)               235500    \n",
      "                                                                 \n",
      " dense_119 (Dense)           (None, 100)               30100     \n",
      "                                                                 \n",
      " dense_120 (Dense)           (None, 50)                5050      \n",
      "                                                                 \n",
      " dense_121 (Dense)           (None, 50)                2550      \n",
      "                                                                 \n",
      " dense_122 (Dense)           (None, 50)                2550      \n",
      "                                                                 \n",
      " dense_123 (Dense)           (None, 8)                 408       \n",
      "                                                                 \n",
      "=================================================================\n",
      "Total params: 276,158\n",
      "Trainable params: 276,158\n",
      "Non-trainable params: 0\n",
      "_________________________________________________________________\n"
     ]
    }
   ],
   "source": [
    "model_A.summary()"
   ]
  },
  {
   "cell_type": "code",
   "execution_count": 53,
   "id": "2b7b576b",
   "metadata": {},
   "outputs": [],
   "source": [
    "model_A.compile(loss=keras.losses.SparseCategoricalCrossentropy(),\n",
    "              optimizer=keras.optimizers.SGD(learning_rate=2e-3),\n",
    "             metrics='accuracy')"
   ]
  },
  {
   "cell_type": "code",
   "execution_count": 54,
   "id": "2899e131",
   "metadata": {},
   "outputs": [],
   "source": [
    "K = keras.backend\n",
    "\n",
    "class ExponentialLearningRate(keras.callbacks.Callback):\n",
    "    def __init__(self, factor):\n",
    "        self.factor = factor\n",
    "        self.rates = []\n",
    "        self.losses = []\n",
    "    def on_batch_end(self, batch, logs):\n",
    "        self.rates.append(K.get_value(self.model.optimizer.learning_rate))\n",
    "        self.losses.append(logs[\"loss\"])\n",
    "        K.set_value(self.model.optimizer.learning_rate, self.model.optimizer.learning_rate * self.factor)"
   ]
  },
  {
   "cell_type": "code",
   "execution_count": 55,
   "id": "7b2b923b",
   "metadata": {},
   "outputs": [],
   "source": [
    "expon_lr = ExponentialLearningRate(factor=1.005)"
   ]
  },
  {
   "cell_type": "code",
   "execution_count": 56,
   "id": "28a89ad0",
   "metadata": {},
   "outputs": [
    {
     "name": "stdout",
     "output_type": "stream",
     "text": [
      "1375/1375 [==============================] - 6s 4ms/step - loss: nan - accuracy: 0.5400 - val_loss: nan - val_accuracy: 0.1139\n"
     ]
    }
   ],
   "source": [
    "his = model_A.fit(X_train_A, y_train_A, epochs=1,\n",
    "                  validation_data=(X_valid_A, y_valid_A), callbacks=[expon_lr])"
   ]
  },
  {
   "cell_type": "code",
   "execution_count": 57,
   "id": "21e9516d",
   "metadata": {},
   "outputs": [
    {
     "name": "stderr",
     "output_type": "stream",
     "text": [
      "C:\\Users\\Admin\\AppData\\Local\\Temp\\ipykernel_33468\\2250432327.py:8: UserWarning: Attempt to set non-positive xlim on a log-scaled axis will be ignored.\n",
      "  plt.xlim(-1, 1)\n"
     ]
    },
    {
     "data": {
      "text/plain": [
       "(0.0020000000949949026, 1)"
      ]
     },
     "execution_count": 57,
     "metadata": {},
     "output_type": "execute_result"
    },
    {
     "data": {
      "image/png": "[encoded data removed]",
      "text/plain": [
       "<Figure size 640x480 with 1 Axes>"
      ]
     },
     "metadata": {},
     "output_type": "display_data"
    }
   ],
   "source": [
    "plt.plot(expon_lr.rates, expon_lr.losses)\n",
    "plt.gca().set_xscale('log')\n",
    "plt.hlines(min(expon_lr.losses), min(expon_lr.rates), max(expon_lr.rates))\n",
    "plt.axis([min(expon_lr.rates), max(expon_lr.rates), 0, expon_lr.losses[0]])\n",
    "plt.grid()\n",
    "plt.xlabel(\"Learning rate\")\n",
    "plt.ylabel(\"Loss\")\n",
    "plt.xlim(-1, 1)"
   ]
  },
  {
   "cell_type": "code",
   "execution_count": 58,
   "id": "0cd3eccf",
   "metadata": {},
   "outputs": [],
   "source": [
    "EarlyStopping = keras.callbacks.EarlyStopping(patience=10, restore_best_weights=True)"
   ]
  },
  {
   "cell_type": "code",
   "execution_count": 59,
   "id": "eccbea09",
   "metadata": {},
   "outputs": [],
   "source": [
    "model_A = keras.models.Sequential()\n",
    "model_A.add(keras.layers.Flatten(input_shape=[28, 28]))\n",
    "for n_hidden in (300, 100, 50, 50, 50):\n",
    "    model_A.add(keras.layers.Dense(n_hidden, activation='selu', kernel_initializer='lecun_normal'))\n",
    "model_A.add(keras.layers.Dense(8, activation='softmax'))\n",
    "\n",
    "model_A.compile(loss=keras.losses.SparseCategoricalCrossentropy(),\n",
    "              optimizer=keras.optimizers.SGD(learning_rate=1e-2),\n",
    "             metrics='accuracy')"
   ]
  },
  {
   "cell_type": "code",
   "execution_count": 60,
   "id": "868ee95d",
   "metadata": {},
   "outputs": [
    {
     "name": "stdout",
     "output_type": "stream",
     "text": [
      "Epoch 1/100\n",
      "1375/1375 [==============================] - 7s 4ms/step - loss: 0.3650 - accuracy: 0.8717 - val_loss: 0.3020 - val_accuracy: 0.8929\n",
      "Epoch 2/100\n",
      "1375/1375 [==============================] - 6s 4ms/step - loss: 0.2699 - accuracy: 0.9070 - val_loss: 0.2602 - val_accuracy: 0.9086\n",
      "Epoch 3/100\n",
      "1375/1375 [==============================] - 6s 4ms/step - loss: 0.2484 - accuracy: 0.9123 - val_loss: 0.2438 - val_accuracy: 0.9128\n",
      "Epoch 4/100\n",
      "1375/1375 [==============================] - 6s 4ms/step - loss: 0.2337 - accuracy: 0.9184 - val_loss: 0.2476 - val_accuracy: 0.9121\n",
      "Epoch 5/100\n",
      "1375/1375 [==============================] - 5s 4ms/step - loss: 0.2217 - accuracy: 0.9222 - val_loss: 0.2472 - val_accuracy: 0.9163\n",
      "Epoch 6/100\n",
      "1375/1375 [==============================] - 6s 4ms/step - loss: 0.2140 - accuracy: 0.9242 - val_loss: 0.2328 - val_accuracy: 0.9198\n",
      "Epoch 7/100\n",
      "1375/1375 [==============================] - 6s 4ms/step - loss: 0.2063 - accuracy: 0.9280 - val_loss: 0.2496 - val_accuracy: 0.9131\n",
      "Epoch 8/100\n",
      "1375/1375 [==============================] - 5s 4ms/step - loss: 0.1994 - accuracy: 0.9298 - val_loss: 0.2278 - val_accuracy: 0.9218\n",
      "Epoch 9/100\n",
      "1375/1375 [==============================] - 6s 4ms/step - loss: 0.1939 - accuracy: 0.9320 - val_loss: 0.2341 - val_accuracy: 0.9190\n",
      "Epoch 10/100\n",
      "1375/1375 [==============================] - 6s 4ms/step - loss: 0.1890 - accuracy: 0.9338 - val_loss: 0.2413 - val_accuracy: 0.9116\n",
      "Epoch 11/100\n",
      "1375/1375 [==============================] - 5s 4ms/step - loss: 0.1843 - accuracy: 0.9346 - val_loss: 0.2100 - val_accuracy: 0.9240\n",
      "Epoch 12/100\n",
      "1375/1375 [==============================] - 6s 4ms/step - loss: 0.1793 - accuracy: 0.9362 - val_loss: 0.2354 - val_accuracy: 0.9190\n",
      "Epoch 13/100\n",
      "1375/1375 [==============================] - 6s 4ms/step - loss: 0.1767 - accuracy: 0.9370 - val_loss: 0.2051 - val_accuracy: 0.9278\n",
      "Epoch 14/100\n",
      "1375/1375 [==============================] - 6s 4ms/step - loss: 0.1721 - accuracy: 0.9375 - val_loss: 0.2071 - val_accuracy: 0.9280\n",
      "Epoch 15/100\n",
      "1375/1375 [==============================] - 6s 4ms/step - loss: 0.1688 - accuracy: 0.9390 - val_loss: 0.2622 - val_accuracy: 0.9061\n",
      "Epoch 16/100\n",
      "1375/1375 [==============================] - 6s 4ms/step - loss: 0.1649 - accuracy: 0.9402 - val_loss: 0.2143 - val_accuracy: 0.9223\n",
      "Epoch 17/100\n",
      "1375/1375 [==============================] - 5s 4ms/step - loss: 0.1622 - accuracy: 0.9412 - val_loss: 0.2437 - val_accuracy: 0.9200\n",
      "Epoch 18/100\n",
      "1375/1375 [==============================] - 6s 4ms/step - loss: 0.1582 - accuracy: 0.9428 - val_loss: 0.2204 - val_accuracy: 0.9233\n",
      "Epoch 19/100\n",
      "1375/1375 [==============================] - 5s 4ms/step - loss: 0.1536 - accuracy: 0.9458 - val_loss: 0.2081 - val_accuracy: 0.9253\n",
      "Epoch 20/100\n",
      "1375/1375 [==============================] - 6s 4ms/step - loss: 0.1518 - accuracy: 0.9457 - val_loss: 0.2045 - val_accuracy: 0.9280\n",
      "Epoch 21/100\n",
      "1375/1375 [==============================] - 6s 5ms/step - loss: 0.1483 - accuracy: 0.9461 - val_loss: 0.2282 - val_accuracy: 0.9168\n",
      "Epoch 22/100\n",
      "1375/1375 [==============================] - 6s 4ms/step - loss: 0.1466 - accuracy: 0.9458 - val_loss: 0.2039 - val_accuracy: 0.9275\n",
      "Epoch 23/100\n",
      "1375/1375 [==============================] - 6s 5ms/step - loss: 0.1434 - accuracy: 0.9487 - val_loss: 0.2022 - val_accuracy: 0.9292\n",
      "Epoch 24/100\n",
      "1375/1375 [==============================] - 6s 4ms/step - loss: 0.1402 - accuracy: 0.9494 - val_loss: 0.1937 - val_accuracy: 0.9330\n",
      "Epoch 25/100\n",
      "1375/1375 [==============================] - 6s 4ms/step - loss: 0.1376 - accuracy: 0.9500 - val_loss: 0.2060 - val_accuracy: 0.9270\n",
      "Epoch 26/100\n",
      "1375/1375 [==============================] - 6s 4ms/step - loss: 0.1347 - accuracy: 0.9515 - val_loss: 0.2024 - val_accuracy: 0.9292\n",
      "Epoch 27/100\n",
      "1375/1375 [==============================] - 5s 4ms/step - loss: 0.1332 - accuracy: 0.9515 - val_loss: 0.2026 - val_accuracy: 0.9307\n",
      "Epoch 28/100\n",
      "1375/1375 [==============================] - 5s 4ms/step - loss: 0.1305 - accuracy: 0.9525 - val_loss: 0.2086 - val_accuracy: 0.9285\n",
      "Epoch 29/100\n",
      "1375/1375 [==============================] - 6s 4ms/step - loss: 0.1287 - accuracy: 0.9525 - val_loss: 0.2098 - val_accuracy: 0.9275\n",
      "Epoch 30/100\n",
      "1375/1375 [==============================] - 5s 4ms/step - loss: 0.1250 - accuracy: 0.9547 - val_loss: 0.2073 - val_accuracy: 0.9295\n",
      "Epoch 31/100\n",
      "1375/1375 [==============================] - 6s 4ms/step - loss: 0.1228 - accuracy: 0.9549 - val_loss: 0.2518 - val_accuracy: 0.9175\n",
      "Epoch 32/100\n",
      "1375/1375 [==============================] - 6s 4ms/step - loss: 0.1224 - accuracy: 0.9551 - val_loss: 0.2263 - val_accuracy: 0.9245\n",
      "Epoch 33/100\n",
      "1375/1375 [==============================] - 6s 4ms/step - loss: 0.1198 - accuracy: 0.9558 - val_loss: 0.2008 - val_accuracy: 0.9342\n",
      "Epoch 34/100\n",
      "1375/1375 [==============================] - 6s 4ms/step - loss: 0.1166 - accuracy: 0.9581 - val_loss: 0.2009 - val_accuracy: 0.9317\n"
     ]
    }
   ],
   "source": [
    "his = model_A.fit(X_train_A, y_train_A, epochs=100,\n",
    "                  validation_data=(X_valid_A, y_valid_A), callbacks=[EarlyStopping])"
   ]
  },
  {
   "cell_type": "code",
   "execution_count": 61,
   "id": "1111a697",
   "metadata": {},
   "outputs": [],
   "source": [
    "model_A.save('my_model_A.h5')"
   ]
  },
  {
   "cell_type": "code",
   "execution_count": 62,
   "id": "642b3cdc",
   "metadata": {},
   "outputs": [],
   "source": [
    "model_B = keras.models.Sequential()\n",
    "model_B.add(keras.layers.Flatten(input_shape=[28, 28]))\n",
    "for n_hidden in (300, 100, 50, 50, 50):\n",
    "    model_B.add(keras.layers.Dense(n_hidden, activation='selu',\n",
    "                                  kernel_initializer='lecun_normal'))\n",
    "model_B.add(keras.layers.Dense(1, activation='sigmoid'))"
   ]
  },
  {
   "cell_type": "code",
   "execution_count": 63,
   "id": "bc91e1a5",
   "metadata": {
    "scrolled": false
   },
   "outputs": [
    {
     "name": "stdout",
     "output_type": "stream",
     "text": [
      "Model: \"sequential_8\"\n",
      "_________________________________________________________________\n",
      " Layer (type)                Output Shape              Param #   \n",
      "=================================================================\n",
      " flatten_7 (Flatten)         (None, 784)               0         \n",
      "                                                                 \n",
      " dense_130 (Dense)           (None, 300)               235500    \n",
      "                                                                 \n",
      " dense_131 (Dense)           (None, 100)               30100     \n",
      "                                                                 \n",
      " dense_132 (Dense)           (None, 50)                5050      \n",
      "                                                                 \n",
      " dense_133 (Dense)           (None, 50)                2550      \n",
      "                                                                 \n",
      " dense_134 (Dense)           (None, 50)                2550      \n",
      "                                                                 \n",
      " dense_135 (Dense)           (None, 1)                 51        \n",
      "                                                                 \n",
      "=================================================================\n",
      "Total params: 275,801\n",
      "Trainable params: 275,801\n",
      "Non-trainable params: 0\n",
      "_________________________________________________________________\n"
     ]
    }
   ],
   "source": [
    "model_B.summary()"
   ]
  },
  {
   "cell_type": "code",
   "execution_count": 64,
   "id": "57315bcf",
   "metadata": {},
   "outputs": [],
   "source": [
    "model_B.compile(loss=keras.losses.BinaryCrossentropy(),\n",
    "                 optimizer=keras.optimizers.SGD(learning_rate=1e-1),\n",
    "                metrics='accuracy')"
   ]
  },
  {
   "cell_type": "code",
   "execution_count": 65,
   "id": "7f07e97b",
   "metadata": {},
   "outputs": [
    {
     "data": {
      "text/plain": [
       "((200, 28, 28), (200,))"
      ]
     },
     "execution_count": 65,
     "metadata": {},
     "output_type": "execute_result"
    }
   ],
   "source": [
    "X_train_B.shape, y_train_B.shape"
   ]
  },
  {
   "cell_type": "code",
   "execution_count": 66,
   "id": "1bfec85a",
   "metadata": {},
   "outputs": [
    {
     "name": "stdout",
     "output_type": "stream",
     "text": [
      "Epoch 1/20\n",
      "7/7 [==============================] - 2s 66ms/step - loss: 2.0424 - accuracy: 0.4850 - val_loss: 0.1457 - val_accuracy: 0.9665\n",
      "Epoch 2/20\n",
      "7/7 [==============================] - 0s 24ms/step - loss: 0.0253 - accuracy: 0.9900 - val_loss: 0.1077 - val_accuracy: 0.9777\n",
      "Epoch 3/20\n",
      "7/7 [==============================] - 0s 23ms/step - loss: 0.0100 - accuracy: 0.9950 - val_loss: 0.1045 - val_accuracy: 0.9797\n",
      "Epoch 4/20\n",
      "7/7 [==============================] - 0s 21ms/step - loss: 0.0042 - accuracy: 1.0000 - val_loss: 0.0944 - val_accuracy: 0.9828\n",
      "Epoch 5/20\n",
      "7/7 [==============================] - 0s 22ms/step - loss: 0.0026 - accuracy: 1.0000 - val_loss: 0.0935 - val_accuracy: 0.9828\n",
      "Epoch 6/20\n",
      "7/7 [==============================] - 0s 23ms/step - loss: 0.0020 - accuracy: 1.0000 - val_loss: 0.0952 - val_accuracy: 0.9828\n",
      "Epoch 7/20\n",
      "7/7 [==============================] - 0s 26ms/step - loss: 0.0016 - accuracy: 1.0000 - val_loss: 0.1049 - val_accuracy: 0.9828\n",
      "Epoch 8/20\n",
      "7/7 [==============================] - 0s 24ms/step - loss: 0.0015 - accuracy: 1.0000 - val_loss: 0.0982 - val_accuracy: 0.9838\n",
      "Epoch 9/20\n",
      "7/7 [==============================] - 0s 24ms/step - loss: 9.7576e-04 - accuracy: 1.0000 - val_loss: 0.0962 - val_accuracy: 0.9828\n",
      "Epoch 10/20\n",
      "7/7 [==============================] - 0s 22ms/step - loss: 8.3437e-04 - accuracy: 1.0000 - val_loss: 0.0959 - val_accuracy: 0.9838\n",
      "Epoch 11/20\n",
      "7/7 [==============================] - 0s 20ms/step - loss: 7.5118e-04 - accuracy: 1.0000 - val_loss: 0.0959 - val_accuracy: 0.9838\n",
      "Epoch 12/20\n",
      "7/7 [==============================] - 0s 22ms/step - loss: 6.8592e-04 - accuracy: 1.0000 - val_loss: 0.0957 - val_accuracy: 0.9838\n",
      "Epoch 13/20\n",
      "7/7 [==============================] - 0s 21ms/step - loss: 6.2193e-04 - accuracy: 1.0000 - val_loss: 0.0954 - val_accuracy: 0.9838\n",
      "Epoch 14/20\n",
      "7/7 [==============================] - 0s 21ms/step - loss: 5.6682e-04 - accuracy: 1.0000 - val_loss: 0.0956 - val_accuracy: 0.9838\n",
      "Epoch 15/20\n",
      "7/7 [==============================] - 0s 23ms/step - loss: 5.2715e-04 - accuracy: 1.0000 - val_loss: 0.0958 - val_accuracy: 0.9838\n",
      "Epoch 16/20\n",
      "7/7 [==============================] - 0s 22ms/step - loss: 4.9465e-04 - accuracy: 1.0000 - val_loss: 0.0960 - val_accuracy: 0.9838\n",
      "Epoch 17/20\n",
      "7/7 [==============================] - 0s 21ms/step - loss: 4.6283e-04 - accuracy: 1.0000 - val_loss: 0.0964 - val_accuracy: 0.9838\n",
      "Epoch 18/20\n",
      "7/7 [==============================] - 0s 21ms/step - loss: 4.3715e-04 - accuracy: 1.0000 - val_loss: 0.0966 - val_accuracy: 0.9838\n",
      "Epoch 19/20\n",
      "7/7 [==============================] - 0s 21ms/step - loss: 4.1298e-04 - accuracy: 1.0000 - val_loss: 0.0968 - val_accuracy: 0.9838\n",
      "Epoch 20/20\n",
      "7/7 [==============================] - 0s 20ms/step - loss: 3.8889e-04 - accuracy: 1.0000 - val_loss: 0.0971 - val_accuracy: 0.9838\n"
     ]
    }
   ],
   "source": [
    "his = model_B.fit(X_train_B, y_train_B, epochs=20,\n",
    "                  validation_data=(X_valid_B, y_valid_B))"
   ]
  },
  {
   "cell_type": "code",
   "execution_count": 67,
   "id": "f8346b6a",
   "metadata": {},
   "outputs": [],
   "source": [
    "model_A = keras.models.load_model('my_model_A.h5')"
   ]
  },
  {
   "cell_type": "code",
   "execution_count": 68,
   "id": "cb585d24",
   "metadata": {},
   "outputs": [],
   "source": [
    "model_B_on_A = keras.models.Sequential(model_A.layers[:-1])\n",
    "model_B_on_A.add(keras.layers.Dense(1, activation='sigmoid'))"
   ]
  },
  {
   "cell_type": "markdown",
   "id": "89900197",
   "metadata": {},
   "source": [
    "Note that model_B_on_A and model_A actually share layers now, so when we train one, it will update both models. If we want to avoid that, we need to build model_B_on_A on top of a clone of model_A:"
   ]
  },
  {
   "cell_type": "code",
   "execution_count": 69,
   "id": "4d2fe589",
   "metadata": {},
   "outputs": [],
   "source": [
    "model_A_clone = keras.models.clone_model(model_A)\n",
    "model_A_clone.set_weights(model_A.get_weights())\n",
    "model_B_on_A = keras.models.Sequential(model_A_clone.layers[:-1])\n",
    "model_B_on_A.add(keras.layers.Dense(1, activation='sigmoid'))"
   ]
  },
  {
   "cell_type": "code",
   "execution_count": 70,
   "id": "655279aa",
   "metadata": {},
   "outputs": [],
   "source": [
    "for layer in model_B_on_A.layers[:-1]:\n",
    "    layer.trainable = False"
   ]
  },
  {
   "cell_type": "code",
   "execution_count": 71,
   "id": "7fa68390",
   "metadata": {},
   "outputs": [
    {
     "name": "stdout",
     "output_type": "stream",
     "text": [
      "Model: \"sequential_10\"\n",
      "_________________________________________________________________\n",
      " Layer (type)                Output Shape              Param #   \n",
      "=================================================================\n",
      " flatten_6 (Flatten)         (None, 784)               0         \n",
      "                                                                 \n",
      " dense_124 (Dense)           (None, 300)               235500    \n",
      "                                                                 \n",
      " dense_125 (Dense)           (None, 100)               30100     \n",
      "                                                                 \n",
      " dense_126 (Dense)           (None, 50)                5050      \n",
      "                                                                 \n",
      " dense_127 (Dense)           (None, 50)                2550      \n",
      "                                                                 \n",
      " dense_128 (Dense)           (None, 50)                2550      \n",
      "                                                                 \n",
      " dense_137 (Dense)           (None, 1)                 51        \n",
      "                                                                 \n",
      "=================================================================\n",
      "Total params: 275,801\n",
      "Trainable params: 51\n",
      "Non-trainable params: 275,750\n",
      "_________________________________________________________________\n"
     ]
    }
   ],
   "source": [
    "model_B_on_A.summary()"
   ]
  },
  {
   "cell_type": "code",
   "execution_count": 72,
   "id": "868700ea",
   "metadata": {},
   "outputs": [],
   "source": [
    "model_B_on_A.compile(loss=keras.losses.BinaryCrossentropy(),\n",
    "                     optimizer=keras.optimizers.SGD(learning_rate=1e-3),\n",
    "                     metrics='accuracy')"
   ]
  },
  {
   "cell_type": "code",
   "execution_count": 73,
   "id": "516a3ad6",
   "metadata": {},
   "outputs": [
    {
     "name": "stdout",
     "output_type": "stream",
     "text": [
      "Epoch 1/4\n",
      "7/7 [==============================] - 1s 62ms/step - loss: 0.4736 - accuracy: 0.7950 - val_loss: 0.4680 - val_accuracy: 0.7627\n",
      "Epoch 2/4\n",
      "7/7 [==============================] - 0s 21ms/step - loss: 0.4487 - accuracy: 0.8100 - val_loss: 0.4471 - val_accuracy: 0.7799\n",
      "Epoch 3/4\n",
      "7/7 [==============================] - 0s 20ms/step - loss: 0.4285 - accuracy: 0.8150 - val_loss: 0.4273 - val_accuracy: 0.7911\n",
      "Epoch 4/4\n",
      "7/7 [==============================] - 0s 21ms/step - loss: 0.4094 - accuracy: 0.8150 - val_loss: 0.4085 - val_accuracy: 0.8134\n"
     ]
    }
   ],
   "source": [
    "his = model_B_on_A.fit(X_train_B, y_train_B, epochs=4,\n",
    "                 validation_data=(X_valid_B, y_valid_B))"
   ]
  },
  {
   "cell_type": "code",
   "execution_count": 74,
   "id": "d57eb5c2",
   "metadata": {},
   "outputs": [],
   "source": [
    "for layer in model_B_on_A.layers[:-1]:\n",
    "    layer.trainable = True"
   ]
  },
  {
   "cell_type": "code",
   "execution_count": 75,
   "id": "e8291108",
   "metadata": {},
   "outputs": [
    {
     "name": "stdout",
     "output_type": "stream",
     "text": [
      "Model: \"sequential_10\"\n",
      "_________________________________________________________________\n",
      " Layer (type)                Output Shape              Param #   \n",
      "=================================================================\n",
      " flatten_6 (Flatten)         (None, 784)               0         \n",
      "                                                                 \n",
      " dense_124 (Dense)           (None, 300)               235500    \n",
      "                                                                 \n",
      " dense_125 (Dense)           (None, 100)               30100     \n",
      "                                                                 \n",
      " dense_126 (Dense)           (None, 50)                5050      \n",
      "                                                                 \n",
      " dense_127 (Dense)           (None, 50)                2550      \n",
      "                                                                 \n",
      " dense_128 (Dense)           (None, 50)                2550      \n",
      "                                                                 \n",
      " dense_137 (Dense)           (None, 1)                 51        \n",
      "                                                                 \n",
      "=================================================================\n",
      "Total params: 275,801\n",
      "Trainable params: 275,801\n",
      "Non-trainable params: 0\n",
      "_________________________________________________________________\n"
     ]
    }
   ],
   "source": [
    "model_B_on_A.summary()"
   ]
  },
  {
   "cell_type": "code",
   "execution_count": 76,
   "id": "bd5a1233",
   "metadata": {},
   "outputs": [],
   "source": [
    "model_B_on_A.compile(loss=keras.losses.BinaryCrossentropy(),\n",
    "                    optimizer=keras.optimizers.SGD(learning_rate=1e-3),\n",
    "                    metrics='accuracy')"
   ]
  },
  {
   "cell_type": "code",
   "execution_count": 77,
   "id": "1b85a91f",
   "metadata": {},
   "outputs": [
    {
     "name": "stdout",
     "output_type": "stream",
     "text": [
      "Epoch 1/20\n",
      "7/7 [==============================] - 1s 63ms/step - loss: 0.3600 - accuracy: 0.8300 - val_loss: 0.3064 - val_accuracy: 0.8661\n",
      "Epoch 2/20\n",
      "7/7 [==============================] - 0s 23ms/step - loss: 0.2729 - accuracy: 0.8750 - val_loss: 0.2508 - val_accuracy: 0.9057\n",
      "Epoch 3/20\n",
      "7/7 [==============================] - 0s 29ms/step - loss: 0.2222 - accuracy: 0.9000 - val_loss: 0.2083 - val_accuracy: 0.9239\n",
      "Epoch 4/20\n",
      "7/7 [==============================] - 0s 27ms/step - loss: 0.1824 - accuracy: 0.9250 - val_loss: 0.1774 - val_accuracy: 0.9391\n",
      "Epoch 5/20\n",
      "7/7 [==============================] - 0s 23ms/step - loss: 0.1522 - accuracy: 0.9550 - val_loss: 0.1554 - val_accuracy: 0.9473\n",
      "Epoch 6/20\n",
      "7/7 [==============================] - 0s 27ms/step - loss: 0.1305 - accuracy: 0.9650 - val_loss: 0.1397 - val_accuracy: 0.9533\n",
      "Epoch 7/20\n",
      "7/7 [==============================] - 0s 22ms/step - loss: 0.1147 - accuracy: 0.9650 - val_loss: 0.1276 - val_accuracy: 0.9564\n",
      "Epoch 8/20\n",
      "7/7 [==============================] - 0s 28ms/step - loss: 0.1025 - accuracy: 0.9750 - val_loss: 0.1160 - val_accuracy: 0.9645\n",
      "Epoch 9/20\n",
      "7/7 [==============================] - 0s 22ms/step - loss: 0.0906 - accuracy: 0.9850 - val_loss: 0.1073 - val_accuracy: 0.9665\n",
      "Epoch 10/20\n",
      "7/7 [==============================] - 0s 28ms/step - loss: 0.0819 - accuracy: 0.9900 - val_loss: 0.1005 - val_accuracy: 0.9696\n",
      "Epoch 11/20\n",
      "7/7 [==============================] - 0s 22ms/step - loss: 0.0750 - accuracy: 0.9900 - val_loss: 0.0939 - val_accuracy: 0.9716\n",
      "Epoch 12/20\n",
      "7/7 [==============================] - 0s 24ms/step - loss: 0.0685 - accuracy: 0.9900 - val_loss: 0.0886 - val_accuracy: 0.9757\n",
      "Epoch 13/20\n",
      "7/7 [==============================] - 0s 27ms/step - loss: 0.0632 - accuracy: 0.9900 - val_loss: 0.0834 - val_accuracy: 0.9767\n",
      "Epoch 14/20\n",
      "7/7 [==============================] - 0s 22ms/step - loss: 0.0580 - accuracy: 0.9900 - val_loss: 0.0794 - val_accuracy: 0.9777\n",
      "Epoch 15/20\n",
      "7/7 [==============================] - 0s 29ms/step - loss: 0.0542 - accuracy: 0.9900 - val_loss: 0.0756 - val_accuracy: 0.9787\n",
      "Epoch 16/20\n",
      "7/7 [==============================] - 0s 23ms/step - loss: 0.0506 - accuracy: 0.9950 - val_loss: 0.0725 - val_accuracy: 0.9797\n",
      "Epoch 17/20\n",
      "7/7 [==============================] - 0s 22ms/step - loss: 0.0478 - accuracy: 0.9950 - val_loss: 0.0697 - val_accuracy: 0.9797\n",
      "Epoch 18/20\n",
      "7/7 [==============================] - 0s 26ms/step - loss: 0.0452 - accuracy: 0.9950 - val_loss: 0.0672 - val_accuracy: 0.9817\n",
      "Epoch 19/20\n",
      "7/7 [==============================] - 0s 25ms/step - loss: 0.0430 - accuracy: 0.9950 - val_loss: 0.0647 - val_accuracy: 0.9828\n",
      "Epoch 20/20\n",
      "7/7 [==============================] - 0s 32ms/step - loss: 0.0406 - accuracy: 0.9950 - val_loss: 0.0627 - val_accuracy: 0.9838\n"
     ]
    }
   ],
   "source": [
    "his = model_B_on_A.fit(X_train_B, y_train_B, epochs=20,\n",
    "                       validation_data=(X_valid_B, y_valid_B),\n",
    "                       callbacks=[EarlyStopping])"
   ]
  },
  {
   "cell_type": "code",
   "execution_count": 78,
   "id": "2ef1797b",
   "metadata": {},
   "outputs": [
    {
     "name": "stdout",
     "output_type": "stream",
     "text": [
      "63/63 [==============================] - 0s 4ms/step - loss: 0.0655 - accuracy: 0.9830\n"
     ]
    },
    {
     "data": {
      "text/plain": [
       "[0.06547557562589645, 0.9829999804496765]"
      ]
     },
     "execution_count": 78,
     "metadata": {},
     "output_type": "execute_result"
    }
   ],
   "source": [
    "model_B_on_A.evaluate(X_test_B, y_test_B)"
   ]
  },
  {
   "cell_type": "code",
   "execution_count": 79,
   "id": "f6b80d28",
   "metadata": {},
   "outputs": [
    {
     "name": "stdout",
     "output_type": "stream",
     "text": [
      "63/63 [==============================] - 0s 3ms/step - loss: 0.0546 - accuracy: 0.9880\n"
     ]
    },
    {
     "data": {
      "text/plain": [
       "[0.05463913455605507, 0.9879999756813049]"
      ]
     },
     "execution_count": 79,
     "metadata": {},
     "output_type": "execute_result"
    }
   ],
   "source": [
    "model_B.evaluate(X_test_B, y_test_B)"
   ]
  },
  {
   "cell_type": "markdown",
   "id": "b587c935",
   "metadata": {},
   "source": [
    "### Unsupervised Learning"
   ]
  },
  {
   "cell_type": "markdown",
   "id": "80b300a4",
   "metadata": {},
   "source": [
    "### Pretraining on an Auxiliary Task"
   ]
  },
  {
   "cell_type": "markdown",
   "id": "10a455ce",
   "metadata": {},
   "source": [
    "# Faster Optimizers"
   ]
  },
  {
   "cell_type": "markdown",
   "id": "d2afcefa",
   "metadata": {},
   "source": [
    "### Momentum Optimization"
   ]
  },
  {
   "cell_type": "code",
   "execution_count": 80,
   "id": "bafd8d7d",
   "metadata": {},
   "outputs": [],
   "source": [
    "optimizer = keras.optimizers.SGD(learning_rate=0.001, momentum=0.9)"
   ]
  },
  {
   "cell_type": "markdown",
   "id": "dc3e7d51",
   "metadata": {},
   "source": [
    "### Nesterov Accelerated Gradient"
   ]
  },
  {
   "cell_type": "code",
   "execution_count": 81,
   "id": "f36eb16c",
   "metadata": {},
   "outputs": [],
   "source": [
    "optimizer = keras.optimizers.SGD(learning_rate=0.001, momentum=0.9,\n",
    "                                 nesterov=True)"
   ]
  },
  {
   "cell_type": "markdown",
   "id": "ef3dc3aa",
   "metadata": {},
   "source": [
    "### AdaGrad"
   ]
  },
  {
   "cell_type": "code",
   "execution_count": 82,
   "id": "9ee5f8a2",
   "metadata": {},
   "outputs": [],
   "source": [
    "optimizer = keras.optimizers.Adagrad(learning_rate=0.001)"
   ]
  },
  {
   "cell_type": "markdown",
   "id": "27f78e41",
   "metadata": {},
   "source": [
    "### RMSProp"
   ]
  },
  {
   "cell_type": "code",
   "execution_count": 83,
   "id": "4c283988",
   "metadata": {},
   "outputs": [],
   "source": [
    "optimizer = keras.optimizers.RMSprop(learning_rate=0.001, rho=0.9)"
   ]
  },
  {
   "cell_type": "markdown",
   "id": "9572757e",
   "metadata": {},
   "source": [
    "### Adam and Nadam Optimization"
   ]
  },
  {
   "cell_type": "code",
   "execution_count": 84,
   "id": "5b8e277e",
   "metadata": {},
   "outputs": [],
   "source": [
    "optimizer = keras.optimizers.Adamax(learning_rate=0.001, beta_1=0.9, beta_2=0.999)\n",
    "optimizer = keras.optimizers.Nadam(learning_rate=0.001, beta_1=0.9, beta_2=0.999)"
   ]
  },
  {
   "cell_type": "markdown",
   "id": "767dad63",
   "metadata": {},
   "source": [
    "### Learning Rate Scheduling"
   ]
  },
  {
   "cell_type": "markdown",
   "id": "ec38ea21",
   "metadata": {},
   "source": [
    "**Power Scheduling** \n",
    "\n",
    "`lr = lr0 / ( 1 + steps / s)**c`\n",
    "\n",
    "* Keras use `c=1` and `s = 1 / decay`\n",
    "\n",
    "`=> lr = lr0 / ( 1 + steps * decay)`"
   ]
  },
  {
   "cell_type": "code",
   "execution_count": 113,
   "id": "8b84232f",
   "metadata": {},
   "outputs": [],
   "source": [
    "optimizer = keras.optimizers.SGD(learning_rate=0.001, weight_decay=1e-4)"
   ]
  },
  {
   "cell_type": "code",
   "execution_count": 114,
   "id": "60c14f09",
   "metadata": {},
   "outputs": [],
   "source": [
    "model = keras.models.Sequential([\n",
    "    keras.layers.Flatten(input_shape=[28, 28]),\n",
    "    keras.layers.Dense(300, activation='selu', kernel_initializer='lecun_normal'),\n",
    "    keras.layers.Dense(100, activation='selu', kernel_initializer='lecun_normal'),\n",
    "    keras.layers.Dense(10, activation='softmax')\n",
    "]) "
   ]
  },
  {
   "cell_type": "code",
   "execution_count": 115,
   "id": "70d37ab7",
   "metadata": {},
   "outputs": [],
   "source": [
    "model.compile(loss=keras.losses.SparseCategoricalCrossentropy(),\n",
    "              optimizer=optimizer, metrics='accuracy')"
   ]
  },
  {
   "cell_type": "code",
   "execution_count": 116,
   "id": "0c70754e",
   "metadata": {},
   "outputs": [
    {
     "name": "stdout",
     "output_type": "stream",
     "text": [
      "Epoch 1/25\n",
      "1719/1719 [==============================] - 6s 3ms/step - loss: 0.9817 - accuracy: 0.6959 - val_loss: 0.6967 - val_accuracy: 0.7732\n",
      "Epoch 2/25\n",
      "1719/1719 [==============================] - 6s 3ms/step - loss: 0.6425 - accuracy: 0.7891 - val_loss: 0.5865 - val_accuracy: 0.8086\n",
      "Epoch 3/25\n",
      "1719/1719 [==============================] - 5s 3ms/step - loss: 0.5685 - accuracy: 0.8083 - val_loss: 0.5448 - val_accuracy: 0.8156\n",
      "Epoch 4/25\n",
      "1719/1719 [==============================] - 5s 3ms/step - loss: 0.5295 - accuracy: 0.8180 - val_loss: 0.5064 - val_accuracy: 0.8314\n",
      "Epoch 5/25\n",
      "1719/1719 [==============================] - 5s 3ms/step - loss: 0.5048 - accuracy: 0.8261 - val_loss: 0.4868 - val_accuracy: 0.8386\n",
      "Epoch 6/25\n",
      "1719/1719 [==============================] - 5s 3ms/step - loss: 0.4871 - accuracy: 0.8305 - val_loss: 0.4717 - val_accuracy: 0.8388\n",
      "Epoch 7/25\n",
      "1719/1719 [==============================] - 6s 3ms/step - loss: 0.4736 - accuracy: 0.8350 - val_loss: 0.4591 - val_accuracy: 0.8448\n",
      "Epoch 8/25\n",
      "1719/1719 [==============================] - 4s 3ms/step - loss: 0.4630 - accuracy: 0.8381 - val_loss: 0.4554 - val_accuracy: 0.8432\n",
      "Epoch 9/25\n",
      "1719/1719 [==============================] - 5s 3ms/step - loss: 0.4544 - accuracy: 0.8415 - val_loss: 0.4428 - val_accuracy: 0.8542\n",
      "Epoch 10/25\n",
      "1719/1719 [==============================] - 5s 3ms/step - loss: 0.4467 - accuracy: 0.8446 - val_loss: 0.4382 - val_accuracy: 0.8520\n",
      "Epoch 11/25\n",
      "1719/1719 [==============================] - 5s 3ms/step - loss: 0.4400 - accuracy: 0.8456 - val_loss: 0.4326 - val_accuracy: 0.8548\n",
      "Epoch 12/25\n",
      "1719/1719 [==============================] - 6s 3ms/step - loss: 0.4342 - accuracy: 0.8481 - val_loss: 0.4280 - val_accuracy: 0.8570\n",
      "Epoch 13/25\n",
      "1719/1719 [==============================] - 5s 3ms/step - loss: 0.4293 - accuracy: 0.8494 - val_loss: 0.4237 - val_accuracy: 0.8588\n",
      "Epoch 14/25\n",
      "1719/1719 [==============================] - 5s 3ms/step - loss: 0.4246 - accuracy: 0.8513 - val_loss: 0.4209 - val_accuracy: 0.8586\n",
      "Epoch 15/25\n",
      "1719/1719 [==============================] - 5s 3ms/step - loss: 0.4203 - accuracy: 0.8532 - val_loss: 0.4154 - val_accuracy: 0.8616\n",
      "Epoch 16/25\n",
      "1719/1719 [==============================] - 6s 3ms/step - loss: 0.4165 - accuracy: 0.8545 - val_loss: 0.4147 - val_accuracy: 0.8608\n",
      "Epoch 17/25\n",
      "1719/1719 [==============================] - 5s 3ms/step - loss: 0.4129 - accuracy: 0.8549 - val_loss: 0.4112 - val_accuracy: 0.8628\n",
      "Epoch 18/25\n",
      "1719/1719 [==============================] - 5s 3ms/step - loss: 0.4093 - accuracy: 0.8565 - val_loss: 0.4099 - val_accuracy: 0.8636\n",
      "Epoch 19/25\n",
      "1719/1719 [==============================] - 7s 4ms/step - loss: 0.4064 - accuracy: 0.8579 - val_loss: 0.4071 - val_accuracy: 0.8638\n",
      "Epoch 20/25\n",
      "1719/1719 [==============================] - 5s 3ms/step - loss: 0.4034 - accuracy: 0.8583 - val_loss: 0.4032 - val_accuracy: 0.8626\n",
      "Epoch 21/25\n",
      "1719/1719 [==============================] - 5s 3ms/step - loss: 0.4005 - accuracy: 0.8594 - val_loss: 0.3989 - val_accuracy: 0.8658\n",
      "Epoch 22/25\n",
      "1719/1719 [==============================] - 6s 4ms/step - loss: 0.3977 - accuracy: 0.8610 - val_loss: 0.3974 - val_accuracy: 0.8670\n",
      "Epoch 23/25\n",
      "1719/1719 [==============================] - 6s 3ms/step - loss: 0.3950 - accuracy: 0.8611 - val_loss: 0.3958 - val_accuracy: 0.8664\n",
      "Epoch 24/25\n",
      "1719/1719 [==============================] - 5s 3ms/step - loss: 0.3927 - accuracy: 0.8622 - val_loss: 0.3953 - val_accuracy: 0.8656\n",
      "Epoch 25/25\n",
      "1719/1719 [==============================] - 5s 3ms/step - loss: 0.3907 - accuracy: 0.8633 - val_loss: 0.3949 - val_accuracy: 0.8658\n"
     ]
    }
   ],
   "source": [
    "n_epochs = 25\n",
    "history = model.fit(X_train, y_train, epochs=n_epochs, validation_data=(X_valid, y_valid),\n",
    "         callbacks=[EarlyStopping])"
   ]
  },
  {
   "cell_type": "code",
   "execution_count": 119,
   "id": "0ff4b33c",
   "metadata": {},
   "outputs": [],
   "source": [
    "import math\n",
    "learning_rate = 0.01\n",
    "decay = 1e-4\n",
    "batch_size = 32\n",
    "n_steps_per_epoch = math.ceil(len(X_train) / batch_size)\n",
    "epochs = np.arange(n_epochs)\n",
    "lrs = learning_rate / (1 + decay * epochs * n_steps_per_epoch)"
   ]
  },
  {
   "cell_type": "code",
   "execution_count": 120,
   "id": "a77d5708",
   "metadata": {},
   "outputs": [
    {
     "data": {
      "image/png": "[encoded data removed]",
      "text/plain": [
       "<Figure size 640x480 with 1 Axes>"
      ]
     },
     "metadata": {},
     "output_type": "display_data"
    }
   ],
   "source": [
    "plt.plot(epochs, lrs,  \"o-\")\n",
    "plt.axis([0, n_epochs - 1, 0, 0.01])\n",
    "plt.xlabel(\"Epoch\")\n",
    "plt.ylabel(\"Learning Rate\")\n",
    "plt.title(\"Power Scheduling\", fontsize=14)\n",
    "plt.grid(True)\n",
    "plt.show()"
   ]
  },
  {
   "cell_type": "markdown",
   "id": "39076e0b",
   "metadata": {},
   "source": [
    "### Exponential Scheduling"
   ]
  },
  {
   "cell_type": "markdown",
   "id": "af475817",
   "metadata": {},
   "source": [
    "`lr = lr0 * 0.1**(epoch/s)`"
   ]
  },
  {
   "cell_type": "code",
   "execution_count": 155,
   "id": "dbbefc27",
   "metadata": {},
   "outputs": [],
   "source": [
    "def exponential_decay_fn(epoch):\n",
    "    return 0.01 * 0.1 **(epoch / 20)"
   ]
  },
  {
   "cell_type": "code",
   "execution_count": 156,
   "id": "931b9f34",
   "metadata": {},
   "outputs": [],
   "source": [
    "def exponential_decay(lr0, s):\n",
    "    def exponential_decay_fn(epoch):\n",
    "        return lr0 * 0.1 ** (epoch / s)\n",
    "    return exponential_decay_fn\n",
    "exponential_decay_fn = exponential_decay(lr0=0.01, s =20)"
   ]
  },
  {
   "cell_type": "code",
   "execution_count": 157,
   "id": "2802493d",
   "metadata": {},
   "outputs": [],
   "source": [
    "model = keras.models.Sequential([\n",
    "    keras.layers.Flatten(input_shape=[28, 28]),\n",
    "    keras.layers.Dense(300, activation='selu', kernel_initializer='lecun_normal'),\n",
    "    keras.layers.Dense(100, activation='selu', kernel_initializer='lecun_normal'),\n",
    "    keras.layers.Dense(10, activation='softmax')\n",
    "])"
   ]
  },
  {
   "cell_type": "code",
   "execution_count": 158,
   "id": "cf992f24",
   "metadata": {},
   "outputs": [],
   "source": [
    "model.compile(loss=keras.losses.SparseCategoricalCrossentropy(),\n",
    "             optimizer=\"nadam\", metrics=\"accuracy\")\n",
    "n_epochs = 25"
   ]
  },
  {
   "cell_type": "code",
   "execution_count": 159,
   "id": "9595991e",
   "metadata": {},
   "outputs": [
    {
     "name": "stdout",
     "output_type": "stream",
     "text": [
      "Epoch 1/25\n",
      "1719/1719 [==============================] - 8s 4ms/step - loss: 0.6224 - accuracy: 0.7918 - val_loss: 0.6737 - val_accuracy: 0.8120 - lr: 0.0100\n",
      "Epoch 2/25\n",
      "1719/1719 [==============================] - 7s 4ms/step - loss: 0.4898 - accuracy: 0.8358 - val_loss: 0.4237 - val_accuracy: 0.8564 - lr: 0.0089\n",
      "Epoch 3/25\n",
      "1719/1719 [==============================] - 7s 4ms/step - loss: 0.4353 - accuracy: 0.8532 - val_loss: 0.5242 - val_accuracy: 0.8174 - lr: 0.0079\n",
      "Epoch 4/25\n",
      "1719/1719 [==============================] - 8s 5ms/step - loss: 0.4113 - accuracy: 0.8635 - val_loss: 0.3661 - val_accuracy: 0.8742 - lr: 0.0071\n",
      "Epoch 5/25\n",
      "1719/1719 [==============================] - 9s 5ms/step - loss: 0.3828 - accuracy: 0.8693 - val_loss: 0.3848 - val_accuracy: 0.8738 - lr: 0.0063\n",
      "Epoch 6/25\n",
      "1719/1719 [==============================] - 8s 5ms/step - loss: 0.3578 - accuracy: 0.8778 - val_loss: 0.3851 - val_accuracy: 0.8774 - lr: 0.0056\n",
      "Epoch 7/25\n",
      "1719/1719 [==============================] - 7s 4ms/step - loss: 0.3400 - accuracy: 0.8841 - val_loss: 0.3832 - val_accuracy: 0.8746 - lr: 0.0050\n",
      "Epoch 8/25\n",
      "1719/1719 [==============================] - 7s 4ms/step - loss: 0.3165 - accuracy: 0.8902 - val_loss: 0.3988 - val_accuracy: 0.8682 - lr: 0.0045\n",
      "Epoch 9/25\n",
      "1719/1719 [==============================] - 6s 4ms/step - loss: 0.3003 - accuracy: 0.8952 - val_loss: 0.3375 - val_accuracy: 0.8900 - lr: 0.0040\n",
      "Epoch 10/25\n",
      "1719/1719 [==============================] - 7s 4ms/step - loss: 0.2807 - accuracy: 0.8992 - val_loss: 0.3408 - val_accuracy: 0.8892 - lr: 0.0035\n",
      "Epoch 11/25\n",
      "1719/1719 [==============================] - 7s 4ms/step - loss: 0.2681 - accuracy: 0.9031 - val_loss: 0.3600 - val_accuracy: 0.8896 - lr: 0.0032\n",
      "Epoch 12/25\n",
      "1719/1719 [==============================] - 9s 5ms/step - loss: 0.2552 - accuracy: 0.9074 - val_loss: 0.3971 - val_accuracy: 0.8776 - lr: 0.0028\n",
      "Epoch 13/25\n",
      "1719/1719 [==============================] - 7s 4ms/step - loss: 0.2433 - accuracy: 0.9118 - val_loss: 0.3697 - val_accuracy: 0.8852 - lr: 0.0025\n",
      "Epoch 14/25\n",
      "1719/1719 [==============================] - 7s 4ms/step - loss: 0.2283 - accuracy: 0.9155 - val_loss: 0.3526 - val_accuracy: 0.8872 - lr: 0.0022\n",
      "Epoch 15/25\n",
      "1719/1719 [==============================] - 8s 5ms/step - loss: 0.2211 - accuracy: 0.9202 - val_loss: 0.3375 - val_accuracy: 0.8914 - lr: 0.0020\n",
      "Epoch 16/25\n",
      "1719/1719 [==============================] - 8s 5ms/step - loss: 0.2088 - accuracy: 0.9233 - val_loss: 0.3489 - val_accuracy: 0.8954 - lr: 0.0018\n",
      "Epoch 17/25\n",
      "1719/1719 [==============================] - 9s 5ms/step - loss: 0.2008 - accuracy: 0.9265 - val_loss: 0.3928 - val_accuracy: 0.8882 - lr: 0.0016\n",
      "Epoch 18/25\n",
      "1719/1719 [==============================] - 7s 4ms/step - loss: 0.1935 - accuracy: 0.9293 - val_loss: 0.3528 - val_accuracy: 0.8972 - lr: 0.0014\n",
      "Epoch 19/25\n",
      "1719/1719 [==============================] - 7s 4ms/step - loss: 0.1840 - accuracy: 0.9328 - val_loss: 0.3558 - val_accuracy: 0.8978 - lr: 0.0013\n",
      "Epoch 20/25\n",
      "1719/1719 [==============================] - 7s 4ms/step - loss: 0.1769 - accuracy: 0.9348 - val_loss: 0.3665 - val_accuracy: 0.8934 - lr: 0.0011\n",
      "Epoch 21/25\n",
      "1719/1719 [==============================] - 7s 4ms/step - loss: 0.1702 - accuracy: 0.9375 - val_loss: 0.3862 - val_accuracy: 0.8974 - lr: 0.0010\n",
      "Epoch 22/25\n",
      "1719/1719 [==============================] - 6s 4ms/step - loss: 0.1647 - accuracy: 0.9394 - val_loss: 0.3613 - val_accuracy: 0.9000 - lr: 8.9125e-04\n",
      "Epoch 23/25\n",
      "1719/1719 [==============================] - 6s 4ms/step - loss: 0.1584 - accuracy: 0.9417 - val_loss: 0.3727 - val_accuracy: 0.8986 - lr: 7.9433e-04\n",
      "Epoch 24/25\n",
      "1719/1719 [==============================] - 7s 4ms/step - loss: 0.1540 - accuracy: 0.9433 - val_loss: 0.3769 - val_accuracy: 0.9008 - lr: 7.0795e-04\n",
      "Epoch 25/25\n",
      "1719/1719 [==============================] - 6s 4ms/step - loss: 0.1486 - accuracy: 0.9457 - val_loss: 0.3926 - val_accuracy: 0.9020 - lr: 6.3096e-04\n"
     ]
    }
   ],
   "source": [
    "lr_scheduler = keras.callbacks.LearningRateScheduler(exponential_decay_fn)\n",
    "history = model.fit(X_train, y_train, epochs=n_epochs, \n",
    "                    validation_data=(X_valid, y_valid), callbacks=[lr_scheduler])"
   ]
  },
  {
   "cell_type": "code",
   "execution_count": 166,
   "id": "69851e72",
   "metadata": {},
   "outputs": [
    {
     "data": {
      "image/png": "[encoded data removed]",
      "text/plain": [
       "<Figure size 640x480 with 1 Axes>"
      ]
     },
     "metadata": {},
     "output_type": "display_data"
    }
   ],
   "source": [
    "plt.plot(history.epoch, history.history[\"lr\"], \"o-\")\n",
    "plt.axis([0, n_epochs - 1, 0, 0.011])\n",
    "plt.xlabel(\"Epoch\")\n",
    "plt.ylabel(\"Learning Rate\")\n",
    "plt.title(\"Exponential Scheduling\", fontsize=14)\n",
    "plt.grid(True)\n",
    "plt.show()"
   ]
  },
  {
   "cell_type": "markdown",
   "id": "beabcdb4",
   "metadata": {},
   "source": [
    "The schedule function can take the current learning rate as a second argument:"
   ]
  },
  {
   "cell_type": "code",
   "execution_count": 167,
   "id": "a7491a41",
   "metadata": {},
   "outputs": [],
   "source": [
    "def exponential_decay_fn(epoch, lr):\n",
    "    return lr * 0.1**(1 / 20)"
   ]
  },
  {
   "cell_type": "markdown",
   "id": "c450085f",
   "metadata": {},
   "source": [
    "If you want to update the learning rate at each iteration rather than at each epoch, you must write your own callback class:\n"
   ]
  },
  {
   "cell_type": "code",
   "execution_count": 170,
   "id": "77bf099d",
   "metadata": {},
   "outputs": [
    {
     "name": "stdout",
     "output_type": "stream",
     "text": [
      "Epoch 1/25\n",
      "1719/1719 [==============================] - 9s 5ms/step - loss: 0.7153 - accuracy: 0.7864 - val_loss: 0.6242 - val_accuracy: 0.7978 - lr: 0.0089\n",
      "Epoch 2/25\n",
      "1719/1719 [==============================] - 8s 5ms/step - loss: 0.6228 - accuracy: 0.8099 - val_loss: 0.5060 - val_accuracy: 0.8324 - lr: 0.0079\n",
      "Epoch 3/25\n",
      "1719/1719 [==============================] - 9s 6ms/step - loss: 0.6125 - accuracy: 0.8130 - val_loss: 0.5763 - val_accuracy: 0.8360 - lr: 0.0071\n",
      "Epoch 4/25\n",
      "1719/1719 [==============================] - 10s 6ms/step - loss: 0.5241 - accuracy: 0.8361 - val_loss: 0.4812 - val_accuracy: 0.8542 - lr: 0.0063\n",
      "Epoch 5/25\n",
      "1719/1719 [==============================] - 9s 5ms/step - loss: 0.5074 - accuracy: 0.8467 - val_loss: 0.4940 - val_accuracy: 0.8584 - lr: 0.0056\n",
      "Epoch 6/25\n",
      "1719/1719 [==============================] - 8s 5ms/step - loss: 0.4571 - accuracy: 0.8578 - val_loss: 0.4815 - val_accuracy: 0.8518 - lr: 0.0050\n",
      "Epoch 7/25\n",
      "1719/1719 [==============================] - 9s 5ms/step - loss: 0.4126 - accuracy: 0.8674 - val_loss: 0.5288 - val_accuracy: 0.8508 - lr: 0.0045\n",
      "Epoch 8/25\n",
      "1719/1719 [==============================] - 9s 5ms/step - loss: 0.3828 - accuracy: 0.8768 - val_loss: 0.5367 - val_accuracy: 0.8494 - lr: 0.0040\n",
      "Epoch 9/25\n",
      "1719/1719 [==============================] - 10s 6ms/step - loss: 0.3508 - accuracy: 0.8832 - val_loss: 0.4793 - val_accuracy: 0.8648 - lr: 0.0035\n",
      "Epoch 10/25\n",
      "1719/1719 [==============================] - 9s 5ms/step - loss: 0.3169 - accuracy: 0.8935 - val_loss: 0.4688 - val_accuracy: 0.8786 - lr: 0.0032\n",
      "Epoch 11/25\n",
      "1719/1719 [==============================] - 8s 5ms/step - loss: 0.3095 - accuracy: 0.8990 - val_loss: 0.4603 - val_accuracy: 0.8706 - lr: 0.0028\n",
      "Epoch 12/25\n",
      "1719/1719 [==============================] - 9s 5ms/step - loss: 0.2894 - accuracy: 0.9033 - val_loss: 0.4411 - val_accuracy: 0.8722 - lr: 0.0025\n",
      "Epoch 13/25\n",
      "1719/1719 [==============================] - 7s 4ms/step - loss: 0.2595 - accuracy: 0.9105 - val_loss: 0.4270 - val_accuracy: 0.8838 - lr: 0.0022\n",
      "Epoch 14/25\n",
      "1719/1719 [==============================] - 10s 6ms/step - loss: 0.2392 - accuracy: 0.9167 - val_loss: 0.4726 - val_accuracy: 0.8754 - lr: 0.0020\n",
      "Epoch 15/25\n",
      "1719/1719 [==============================] - 8s 5ms/step - loss: 0.2270 - accuracy: 0.9227 - val_loss: 0.4400 - val_accuracy: 0.8822 - lr: 0.0018\n",
      "Epoch 16/25\n",
      "1719/1719 [==============================] - 11s 6ms/step - loss: 0.2090 - accuracy: 0.9286 - val_loss: 0.4572 - val_accuracy: 0.8854 - lr: 0.0016\n",
      "Epoch 17/25\n",
      "1719/1719 [==============================] - 9s 5ms/step - loss: 0.1926 - accuracy: 0.9337 - val_loss: 0.4843 - val_accuracy: 0.8856 - lr: 0.0014\n",
      "Epoch 18/25\n",
      "1719/1719 [==============================] - 8s 5ms/step - loss: 0.1802 - accuracy: 0.9377 - val_loss: 0.4673 - val_accuracy: 0.8822 - lr: 0.0013\n",
      "Epoch 19/25\n",
      "1719/1719 [==============================] - 8s 5ms/step - loss: 0.1684 - accuracy: 0.9439 - val_loss: 0.4886 - val_accuracy: 0.8904 - lr: 0.0011\n",
      "Epoch 20/25\n",
      "1719/1719 [==============================] - 8s 4ms/step - loss: 0.1563 - accuracy: 0.9469 - val_loss: 0.5002 - val_accuracy: 0.8846 - lr: 9.9967e-04\n",
      "Epoch 21/25\n",
      "1719/1719 [==============================] - 9s 6ms/step - loss: 0.1460 - accuracy: 0.9505 - val_loss: 0.5131 - val_accuracy: 0.8872 - lr: 8.9094e-04\n",
      "Epoch 22/25\n",
      "1719/1719 [==============================] - 9s 5ms/step - loss: 0.1360 - accuracy: 0.9549 - val_loss: 0.5209 - val_accuracy: 0.8894 - lr: 7.9404e-04\n",
      "Epoch 23/25\n",
      "1719/1719 [==============================] - 9s 5ms/step - loss: 0.1270 - accuracy: 0.9581 - val_loss: 0.5624 - val_accuracy: 0.8878 - lr: 7.0767e-04\n",
      "Epoch 24/25\n",
      "1719/1719 [==============================] - 9s 5ms/step - loss: 0.1191 - accuracy: 0.9611 - val_loss: 0.5835 - val_accuracy: 0.8864 - lr: 6.3071e-04\n",
      "Epoch 25/25\n",
      "1719/1719 [==============================] - 9s 5ms/step - loss: 0.1114 - accuracy: 0.9635 - val_loss: 0.5909 - val_accuracy: 0.8874 - lr: 5.6211e-04\n"
     ]
    }
   ],
   "source": [
    "K = keras.backend\n",
    "\n",
    "class ExponentialDecay(keras.callbacks.Callback):\n",
    "    def __init__(self, s=40000):\n",
    "        super().__init__()\n",
    "        self.s = s\n",
    "\n",
    "    def on_batch_begin(self, batch, logs=None):\n",
    "        # Note: the `batch` argument is reset at each epoch\n",
    "        lr = K.get_value(self.model.optimizer.learning_rate)\n",
    "        K.set_value(self.model.optimizer.learning_rate, lr * 0.1**(1 / self.s))\n",
    "\n",
    "    def on_epoch_end(self, epoch, logs=None):\n",
    "        logs = logs or {}\n",
    "        logs['lr'] = K.get_value(self.model.optimizer.learning_rate)\n",
    "\n",
    "model = keras.models.Sequential([\n",
    "    keras.layers.Flatten(input_shape=[28, 28]),\n",
    "    keras.layers.Dense(300, activation=\"selu\", kernel_initializer=\"lecun_normal\"),\n",
    "    keras.layers.Dense(100, activation=\"selu\", kernel_initializer=\"lecun_normal\"),\n",
    "    keras.layers.Dense(10, activation=\"softmax\")\n",
    "])\n",
    "lr0 = 0.01\n",
    "optimizer = keras.optimizers.Nadam(learning_rate=lr0)\n",
    "model.compile(loss=\"sparse_categorical_crossentropy\", optimizer=optimizer, metrics=[\"accuracy\"])\n",
    "n_epochs = 25\n",
    "\n",
    "s = 20 * len(X_train) // 32 # number of steps in 20 epochs (batch size = 32)\n",
    "exp_decay = ExponentialDecay(s)\n",
    "history = model.fit(X_train_scaled, y_train, epochs=n_epochs,\n",
    "                    validation_data=(X_valid_scaled, y_valid),\n",
    "                    callbacks=[exp_decay])"
   ]
  },
  {
   "cell_type": "code",
   "execution_count": 153,
   "id": "9cd1a835",
   "metadata": {},
   "outputs": [],
   "source": [
    "n_steps = n_epochs * len(X_train) // 32\n",
    "steps = np.arange(n_steps)\n",
    "lrs = lr0 * 0.1**(steps / s)"
   ]
  },
  {
   "cell_type": "code",
   "execution_count": 154,
   "id": "49e1698b",
   "metadata": {},
   "outputs": [
    {
     "data": {
      "image/png": "[encoded data removed]",
      "text/plain": [
       "<Figure size 640x480 with 1 Axes>"
      ]
     },
     "metadata": {},
     "output_type": "display_data"
    }
   ],
   "source": [
    "plt.plot(steps, lrs, \"-\", linewidth=2)\n",
    "plt.axis([0, n_steps - 1, 0, lr0 * 1.1])\n",
    "plt.xlabel(\"Batch\")\n",
    "plt.ylabel(\"Learning Rate\")\n",
    "plt.title(\"Exponential Scheduling (per batch)\", fontsize=14)\n",
    "plt.grid(True)\n",
    "plt.show()"
   ]
  },
  {
   "cell_type": "markdown",
   "id": "bdbd9eab",
   "metadata": {},
   "source": [
    "### Piecewise Constant Scheduling"
   ]
  },
  {
   "cell_type": "code",
   "execution_count": 175,
   "id": "fbc89c44",
   "metadata": {},
   "outputs": [],
   "source": [
    "def piecewise_constant_fn(epoch):\n",
    "    if epoch < 5:\n",
    "        return 0.01\n",
    "    if epoch < 15:\n",
    "        return 0.005\n",
    "    else:\n",
    "        return 0.001"
   ]
  },
  {
   "cell_type": "code",
   "execution_count": 176,
   "id": "79695402",
   "metadata": {},
   "outputs": [],
   "source": [
    "def piecewise_constant(boundaries, values):\n",
    "    boundaries = np.array([0] + boundaries)\n",
    "    values = np.array(values)\n",
    "    def picewise_constant_fn(epoch):\n",
    "        return value[np.argmax(boundaries > epoch) - 1 ]\n",
    "    return piecewise_constant_fn\n",
    "\n",
    "piecewise_constant_fn = piecewise_constant([5, 15], [0.01, 0.005, 0.001])"
   ]
  },
  {
   "cell_type": "code",
   "execution_count": 185,
   "id": "960f9501",
   "metadata": {},
   "outputs": [],
   "source": [
    "lr_scheduler = keras.callbacks.LearningRateScheduler(piecewise_constant_fn)\n",
    "\n",
    "model = keras.models.Sequential([\n",
    "    keras.layers.Flatten(input_shape=[28, 28]),\n",
    "    keras.layers.Dense(300, activation='selu', kernel_initializer='lecun_normal'),\n",
    "    keras.layers.Dense(100, activation='selu', kernel_initializer='lecun_normal'),\n",
    "    keras.layers.Dense(10, activation='softmax')\n",
    "])\n",
    "model.compile(loss='sparse_categorical_crossentropy', optimizer='nadam', metrics='accuracy')"
   ]
  },
  {
   "cell_type": "code",
   "execution_count": 186,
   "id": "5e521c68",
   "metadata": {
    "scrolled": true
   },
   "outputs": [
    {
     "name": "stdout",
     "output_type": "stream",
     "text": [
      "Epoch 1/25\n",
      "1719/1719 [==============================] - 9s 4ms/step - loss: 0.7370 - accuracy: 0.7807 - val_loss: 0.6935 - val_accuracy: 0.8116 - lr: 0.0100\n",
      "Epoch 2/25\n",
      "1719/1719 [==============================] - 7s 4ms/step - loss: 0.8760 - accuracy: 0.7428 - val_loss: 0.8693 - val_accuracy: 0.7532 - lr: 0.0100\n",
      "Epoch 3/25\n",
      "1719/1719 [==============================] - 7s 4ms/step - loss: 0.8806 - accuracy: 0.7293 - val_loss: 1.2024 - val_accuracy: 0.5874 - lr: 0.0100\n",
      "Epoch 4/25\n",
      "1719/1719 [==============================] - 8s 4ms/step - loss: 0.9955 - accuracy: 0.6712 - val_loss: 1.0944 - val_accuracy: 0.5648 - lr: 0.0100\n",
      "Epoch 5/25\n",
      "1719/1719 [==============================] - 7s 4ms/step - loss: 1.0708 - accuracy: 0.6334 - val_loss: 1.1607 - val_accuracy: 0.6194 - lr: 0.0100\n",
      "Epoch 6/25\n",
      "1719/1719 [==============================] - 7s 4ms/step - loss: 0.7037 - accuracy: 0.7651 - val_loss: 0.6945 - val_accuracy: 0.7990 - lr: 0.0050\n",
      "Epoch 7/25\n",
      "1719/1719 [==============================] - 8s 5ms/step - loss: 0.6435 - accuracy: 0.7912 - val_loss: 0.6479 - val_accuracy: 0.8134 - lr: 0.0050\n",
      "Epoch 8/25\n",
      "1719/1719 [==============================] - 7s 4ms/step - loss: 0.6052 - accuracy: 0.8002 - val_loss: 0.7303 - val_accuracy: 0.7772 - lr: 0.0050\n",
      "Epoch 9/25\n",
      "1719/1719 [==============================] - 7s 4ms/step - loss: 0.5668 - accuracy: 0.8062 - val_loss: 0.6432 - val_accuracy: 0.8222 - lr: 0.0050\n",
      "Epoch 10/25\n",
      "1719/1719 [==============================] - 7s 4ms/step - loss: 0.5611 - accuracy: 0.8128 - val_loss: 0.6913 - val_accuracy: 0.8046 - lr: 0.0050\n",
      "Epoch 11/25\n",
      "1719/1719 [==============================] - 8s 4ms/step - loss: 0.5512 - accuracy: 0.8191 - val_loss: 0.6351 - val_accuracy: 0.8184 - lr: 0.0050\n",
      "Epoch 12/25\n",
      "1719/1719 [==============================] - 7s 4ms/step - loss: 0.5457 - accuracy: 0.8210 - val_loss: 0.6874 - val_accuracy: 0.7798 - lr: 0.0050\n",
      "Epoch 13/25\n",
      "1719/1719 [==============================] - 8s 4ms/step - loss: 0.5422 - accuracy: 0.8229 - val_loss: 0.6919 - val_accuracy: 0.7864 - lr: 0.0050\n",
      "Epoch 14/25\n",
      "1719/1719 [==============================] - 9s 5ms/step - loss: 0.5173 - accuracy: 0.8318 - val_loss: 0.7114 - val_accuracy: 0.8202 - lr: 0.0050\n",
      "Epoch 15/25\n",
      "1719/1719 [==============================] - 10s 6ms/step - loss: 0.5190 - accuracy: 0.8287 - val_loss: 0.7401 - val_accuracy: 0.8276 - lr: 0.0050\n",
      "Epoch 16/25\n",
      "1719/1719 [==============================] - 9s 5ms/step - loss: 0.4036 - accuracy: 0.8659 - val_loss: 0.5636 - val_accuracy: 0.8420 - lr: 0.0010\n",
      "Epoch 17/25\n",
      "1719/1719 [==============================] - 8s 5ms/step - loss: 0.3813 - accuracy: 0.8740 - val_loss: 0.5847 - val_accuracy: 0.8382 - lr: 0.0010\n",
      "Epoch 18/25\n",
      "1719/1719 [==============================] - 8s 5ms/step - loss: 0.3657 - accuracy: 0.8784 - val_loss: 0.6024 - val_accuracy: 0.8458 - lr: 0.0010\n",
      "Epoch 19/25\n",
      "1719/1719 [==============================] - 7s 4ms/step - loss: 0.3531 - accuracy: 0.8822 - val_loss: 0.5641 - val_accuracy: 0.8486 - lr: 0.0010\n",
      "Epoch 20/25\n",
      "1719/1719 [==============================] - 9s 5ms/step - loss: 0.3434 - accuracy: 0.8852 - val_loss: 0.5663 - val_accuracy: 0.8488 - lr: 0.0010\n",
      "Epoch 21/25\n",
      "1719/1719 [==============================] - 9s 5ms/step - loss: 0.3335 - accuracy: 0.8895 - val_loss: 0.6088 - val_accuracy: 0.8514 - lr: 0.0010\n",
      "Epoch 22/25\n",
      "1719/1719 [==============================] - 7s 4ms/step - loss: 0.3281 - accuracy: 0.8917 - val_loss: 0.5984 - val_accuracy: 0.8562 - lr: 0.0010\n",
      "Epoch 23/25\n",
      "1719/1719 [==============================] - 7s 4ms/step - loss: 0.3201 - accuracy: 0.8935 - val_loss: 0.6273 - val_accuracy: 0.8516 - lr: 0.0010\n",
      "Epoch 24/25\n",
      "1719/1719 [==============================] - 8s 5ms/step - loss: 0.3168 - accuracy: 0.8947 - val_loss: 0.6066 - val_accuracy: 0.8562 - lr: 0.0010\n",
      "Epoch 25/25\n",
      "1719/1719 [==============================] - 7s 4ms/step - loss: 0.3098 - accuracy: 0.8971 - val_loss: 0.6373 - val_accuracy: 0.8546 - lr: 0.0010\n"
     ]
    }
   ],
   "source": [
    "n_epochs = 25\n",
    "history = model.fit(X_train_scaled, y_train, epochs=n_epochs,\n",
    "                    validation_data=(X_valid_scaled, y_valid), callbacks=[lr_scheduler])"
   ]
  },
  {
   "cell_type": "code",
   "execution_count": 187,
   "id": "c72ef6f8",
   "metadata": {},
   "outputs": [
    {
     "data": {
      "image/png": "[encoded data removed]",
      "text/plain": [
       "<Figure size 640x480 with 1 Axes>"
      ]
     },
     "metadata": {},
     "output_type": "display_data"
    }
   ],
   "source": [
    "plt.plot(history.epoch, [piecewise_constant_fn(epoch) for epoch in history.epoch], \"o-\")\n",
    "plt.axis([0, n_epochs - 1, 0, 0.011])\n",
    "plt.xlabel(\"Epoch\")\n",
    "plt.ylabel(\"Learning Rate\")\n",
    "plt.title(\"Piecewise Constant Scheduling\", fontsize=14)\n",
    "plt.grid(True)\n",
    "plt.show()"
   ]
  },
  {
   "cell_type": "markdown",
   "id": "ed38e0dc",
   "metadata": {},
   "source": [
    "### Perfomance Scheduling"
   ]
  },
  {
   "cell_type": "code",
   "execution_count": 194,
   "id": "b5e25f31",
   "metadata": {},
   "outputs": [],
   "source": [
    "tf.random.set_seed(42)\n",
    "np.random.seed(42)"
   ]
  },
  {
   "cell_type": "code",
   "execution_count": 195,
   "id": "bd859ff4",
   "metadata": {},
   "outputs": [],
   "source": [
    "lr_scheduler = keras.callbacks.ReduceLROnPlateau(factor=0.2, patience=5)\n",
    "\n",
    "model = keras.models.Sequential([\n",
    "    keras.layers.Flatten(input_shape=[28, 28]),\n",
    "    keras.layers.Dense(300, activation='selu', kernel_initializer='lecun_normal'),\n",
    "    keras.layers.Dense(100, activation='selu', kernel_initializer='lecun_normal'),\n",
    "    keras.layers.Dense(10, activation='softmax')\n",
    "])"
   ]
  },
  {
   "cell_type": "code",
   "execution_count": 196,
   "id": "7183770f",
   "metadata": {},
   "outputs": [],
   "source": [
    "optimizer = keras.optimizers.SGD(learning_rate=0.02, momentum=0.9)\n",
    "model.compile(loss='sparse_categorical_crossentropy', optimizer=optimizer,\n",
    "             metrics='accuracy')\n",
    "n_epochs=25"
   ]
  },
  {
   "cell_type": "code",
   "execution_count": 197,
   "id": "d3704be9",
   "metadata": {},
   "outputs": [
    {
     "name": "stdout",
     "output_type": "stream",
     "text": [
      "Epoch 1/25\n",
      "1719/1719 [==============================] - 7s 4ms/step - loss: 0.5959 - accuracy: 0.8043 - val_loss: 0.4706 - val_accuracy: 0.8496 - lr: 0.0200\n",
      "Epoch 2/25\n",
      "1719/1719 [==============================] - 6s 4ms/step - loss: 0.4925 - accuracy: 0.8416 - val_loss: 0.5551 - val_accuracy: 0.8392 - lr: 0.0200\n",
      "Epoch 3/25\n",
      "1719/1719 [==============================] - 8s 5ms/step - loss: 0.5155 - accuracy: 0.8414 - val_loss: 0.5320 - val_accuracy: 0.8518 - lr: 0.0200\n",
      "Epoch 4/25\n",
      "1719/1719 [==============================] - 7s 4ms/step - loss: 0.5390 - accuracy: 0.8426 - val_loss: 0.4914 - val_accuracy: 0.8596 - lr: 0.0200\n",
      "Epoch 5/25\n",
      "1719/1719 [==============================] - 6s 3ms/step - loss: 0.5204 - accuracy: 0.8495 - val_loss: 0.4904 - val_accuracy: 0.8464 - lr: 0.0200\n",
      "Epoch 6/25\n",
      "1719/1719 [==============================] - 7s 4ms/step - loss: 0.4938 - accuracy: 0.8555 - val_loss: 0.7319 - val_accuracy: 0.8392 - lr: 0.0200\n",
      "Epoch 7/25\n",
      "1719/1719 [==============================] - 7s 4ms/step - loss: 0.2640 - accuracy: 0.9037 - val_loss: 0.3577 - val_accuracy: 0.8858 - lr: 0.0040\n",
      "Epoch 8/25\n",
      "1719/1719 [==============================] - 7s 4ms/step - loss: 0.2170 - accuracy: 0.9163 - val_loss: 0.3360 - val_accuracy: 0.8910 - lr: 0.0040\n",
      "Epoch 9/25\n",
      "1719/1719 [==============================] - 7s 4ms/step - loss: 0.1996 - accuracy: 0.9230 - val_loss: 0.3326 - val_accuracy: 0.8944 - lr: 0.0040\n",
      "Epoch 10/25\n",
      "1719/1719 [==============================] - 7s 4ms/step - loss: 0.1875 - accuracy: 0.9271 - val_loss: 0.3347 - val_accuracy: 0.8940 - lr: 0.0040\n",
      "Epoch 11/25\n",
      "1719/1719 [==============================] - 7s 4ms/step - loss: 0.1773 - accuracy: 0.9304 - val_loss: 0.3435 - val_accuracy: 0.8964 - lr: 0.0040\n",
      "Epoch 12/25\n",
      "1719/1719 [==============================] - 8s 5ms/step - loss: 0.1671 - accuracy: 0.9350 - val_loss: 0.3679 - val_accuracy: 0.8906 - lr: 0.0040\n",
      "Epoch 13/25\n",
      "1719/1719 [==============================] - 6s 4ms/step - loss: 0.1600 - accuracy: 0.9379 - val_loss: 0.3521 - val_accuracy: 0.8974 - lr: 0.0040\n",
      "Epoch 14/25\n",
      "1719/1719 [==============================] - 7s 4ms/step - loss: 0.1506 - accuracy: 0.9419 - val_loss: 0.3598 - val_accuracy: 0.8926 - lr: 0.0040\n",
      "Epoch 15/25\n",
      "1719/1719 [==============================] - 6s 3ms/step - loss: 0.1244 - accuracy: 0.9522 - val_loss: 0.3535 - val_accuracy: 0.8960 - lr: 8.0000e-04\n",
      "Epoch 16/25\n",
      "1719/1719 [==============================] - 6s 4ms/step - loss: 0.1196 - accuracy: 0.9551 - val_loss: 0.3606 - val_accuracy: 0.8960 - lr: 8.0000e-04\n",
      "Epoch 17/25\n",
      "1719/1719 [==============================] - 7s 4ms/step - loss: 0.1174 - accuracy: 0.9558 - val_loss: 0.3622 - val_accuracy: 0.8946 - lr: 8.0000e-04\n",
      "Epoch 18/25\n",
      "1719/1719 [==============================] - 7s 4ms/step - loss: 0.1152 - accuracy: 0.9569 - val_loss: 0.3651 - val_accuracy: 0.8960 - lr: 8.0000e-04\n",
      "Epoch 19/25\n",
      "1719/1719 [==============================] - 6s 4ms/step - loss: 0.1133 - accuracy: 0.9578 - val_loss: 0.3700 - val_accuracy: 0.8980 - lr: 8.0000e-04\n",
      "Epoch 20/25\n",
      "1719/1719 [==============================] - 7s 4ms/step - loss: 0.1079 - accuracy: 0.9599 - val_loss: 0.3678 - val_accuracy: 0.8964 - lr: 1.6000e-04\n",
      "Epoch 21/25\n",
      "1719/1719 [==============================] - 7s 4ms/step - loss: 0.1070 - accuracy: 0.9607 - val_loss: 0.3693 - val_accuracy: 0.8980 - lr: 1.6000e-04\n",
      "Epoch 22/25\n",
      "1719/1719 [==============================] - 8s 4ms/step - loss: 0.1066 - accuracy: 0.9609 - val_loss: 0.3704 - val_accuracy: 0.8968 - lr: 1.6000e-04\n",
      "Epoch 23/25\n",
      "1719/1719 [==============================] - 7s 4ms/step - loss: 0.1062 - accuracy: 0.9612 - val_loss: 0.3700 - val_accuracy: 0.8952 - lr: 1.6000e-04\n",
      "Epoch 24/25\n",
      "1719/1719 [==============================] - 6s 4ms/step - loss: 0.1057 - accuracy: 0.9614 - val_loss: 0.3730 - val_accuracy: 0.8952 - lr: 1.6000e-04\n",
      "Epoch 25/25\n",
      "1719/1719 [==============================] - 6s 4ms/step - loss: 0.1046 - accuracy: 0.9617 - val_loss: 0.3715 - val_accuracy: 0.8960 - lr: 3.2000e-05\n"
     ]
    }
   ],
   "source": [
    "history = model.fit(X_train_scaled, y_train, epochs=n_epochs, \n",
    "         validation_data=(X_valid_scaled, y_valid), callbacks=[lr_scheduler])"
   ]
  },
  {
   "cell_type": "code",
   "execution_count": 200,
   "id": "e0000153",
   "metadata": {},
   "outputs": [
    {
     "data": {
      "image/png": "[encoded data removed]",
      "text/plain": [
       "<Figure size 640x480 with 2 Axes>"
      ]
     },
     "metadata": {},
     "output_type": "display_data"
    }
   ],
   "source": [
    "plt.plot(history.epoch, history.history[\"lr\"], \"bo-\")\n",
    "plt.xlabel(\"Epoch\")\n",
    "plt.ylabel(\"Learning Rate\", color='b')\n",
    "plt.tick_params('y', colors='b')\n",
    "plt.gca().set_xlim(0, n_epochs - 1)\n",
    "plt.grid(True)\n",
    "\n",
    "ax2 = plt.gca().twinx()\n",
    "ax2.plot(history.epoch, history.history[\"val_loss\"], \"r^-\")\n",
    "ax2.set_ylabel('Validation Loss', color='r')\n",
    "ax2.tick_params('y', colors='r')\n",
    "\n",
    "plt.title(\"Reduce LR on Plateau\", fontsize=14)\n",
    "plt.show()"
   ]
  },
  {
   "cell_type": "markdown",
   "id": "44759d3e",
   "metadata": {},
   "source": [
    "### tf.keras.schedulers"
   ]
  },
  {
   "cell_type": "code",
   "execution_count": 201,
   "id": "4c35c0d5",
   "metadata": {},
   "outputs": [],
   "source": [
    "model = keras.models.Sequential([\n",
    "    keras.layers.Flatten(input_shape=[28, 28]),\n",
    "    keras.layers.Dense(300, activation=\"selu\", kernel_initializer=\"lecun_normal\"),\n",
    "    keras.layers.Dense(100, activation=\"selu\", kernel_initializer=\"lecun_normal\"),\n",
    "    keras.layers.Dense(10, activation=\"softmax\")\n",
    "])\n",
    "\n",
    "s = 20 * len(X_train) // 32 # number of steps in 20 epochs (batch_size = 32)\n",
    "learning_rate = keras.optimizers.schedules.ExponentialDecay(0.01, s, 0.1)\n",
    "optimizer = keras.optimizers.SGD(learning_rate=learning_rate)\n",
    "model.compile(loss='sparse_categorical_crossentropy', optimizer=optimizer, \n",
    "             metrics='accuracy')"
   ]
  },
  {
   "cell_type": "code",
   "execution_count": 203,
   "id": "4810b31e",
   "metadata": {},
   "outputs": [
    {
     "name": "stdout",
     "output_type": "stream",
     "text": [
      "Epoch 1/25\n",
      "1719/1719 [==============================] - 6s 3ms/step - loss: 0.3772 - accuracy: 0.8663 - val_loss: 0.3777 - val_accuracy: 0.8686\n",
      "Epoch 2/25\n",
      "1719/1719 [==============================] - 6s 3ms/step - loss: 0.3444 - accuracy: 0.8775 - val_loss: 0.3649 - val_accuracy: 0.8762\n",
      "Epoch 3/25\n",
      "1719/1719 [==============================] - 6s 3ms/step - loss: 0.3231 - accuracy: 0.8847 - val_loss: 0.3675 - val_accuracy: 0.8760\n",
      "Epoch 4/25\n",
      "1719/1719 [==============================] - 6s 3ms/step - loss: 0.3073 - accuracy: 0.8903 - val_loss: 0.3480 - val_accuracy: 0.8794\n",
      "Epoch 5/25\n",
      "1719/1719 [==============================] - 6s 3ms/step - loss: 0.2953 - accuracy: 0.8949 - val_loss: 0.3441 - val_accuracy: 0.8798\n",
      "Epoch 6/25\n",
      "1719/1719 [==============================] - 6s 4ms/step - loss: 0.2837 - accuracy: 0.8988 - val_loss: 0.3448 - val_accuracy: 0.8826\n",
      "Epoch 7/25\n",
      "1719/1719 [==============================] - 6s 3ms/step - loss: 0.2751 - accuracy: 0.9014 - val_loss: 0.3415 - val_accuracy: 0.8826\n",
      "Epoch 8/25\n",
      "1719/1719 [==============================] - 5s 3ms/step - loss: 0.2676 - accuracy: 0.9042 - val_loss: 0.3457 - val_accuracy: 0.8810\n",
      "Epoch 9/25\n",
      "1719/1719 [==============================] - 5s 3ms/step - loss: 0.2607 - accuracy: 0.9066 - val_loss: 0.3365 - val_accuracy: 0.8852\n",
      "Epoch 10/25\n",
      "1719/1719 [==============================] - 6s 3ms/step - loss: 0.2547 - accuracy: 0.9097 - val_loss: 0.3354 - val_accuracy: 0.8876\n",
      "Epoch 11/25\n",
      "1719/1719 [==============================] - 5s 3ms/step - loss: 0.2501 - accuracy: 0.9112 - val_loss: 0.3349 - val_accuracy: 0.8868\n",
      "Epoch 12/25\n",
      "1719/1719 [==============================] - 5s 3ms/step - loss: 0.2454 - accuracy: 0.9135 - val_loss: 0.3403 - val_accuracy: 0.8852\n",
      "Epoch 13/25\n",
      "1719/1719 [==============================] - 6s 3ms/step - loss: 0.2415 - accuracy: 0.9153 - val_loss: 0.3325 - val_accuracy: 0.8888\n",
      "Epoch 14/25\n",
      "1719/1719 [==============================] - 5s 3ms/step - loss: 0.2384 - accuracy: 0.9161 - val_loss: 0.3346 - val_accuracy: 0.8870\n",
      "Epoch 15/25\n",
      "1719/1719 [==============================] - 5s 3ms/step - loss: 0.2350 - accuracy: 0.9174 - val_loss: 0.3337 - val_accuracy: 0.8862\n",
      "Epoch 16/25\n",
      "1719/1719 [==============================] - 6s 3ms/step - loss: 0.2322 - accuracy: 0.9182 - val_loss: 0.3318 - val_accuracy: 0.8886\n",
      "Epoch 17/25\n",
      "1719/1719 [==============================] - 6s 3ms/step - loss: 0.2300 - accuracy: 0.9193 - val_loss: 0.3329 - val_accuracy: 0.8874\n",
      "Epoch 18/25\n",
      "1719/1719 [==============================] - 7s 4ms/step - loss: 0.2277 - accuracy: 0.9203 - val_loss: 0.3313 - val_accuracy: 0.8898\n",
      "Epoch 19/25\n",
      "1719/1719 [==============================] - 7s 4ms/step - loss: 0.2259 - accuracy: 0.9212 - val_loss: 0.3329 - val_accuracy: 0.8882\n",
      "Epoch 20/25\n",
      "1719/1719 [==============================] - 6s 4ms/step - loss: 0.2242 - accuracy: 0.9219 - val_loss: 0.3309 - val_accuracy: 0.8900\n",
      "Epoch 21/25\n",
      "1719/1719 [==============================] - 7s 4ms/step - loss: 0.2223 - accuracy: 0.9234 - val_loss: 0.3325 - val_accuracy: 0.8902\n",
      "Epoch 22/25\n",
      "1719/1719 [==============================] - 8s 4ms/step - loss: 0.2212 - accuracy: 0.9232 - val_loss: 0.3313 - val_accuracy: 0.8890\n",
      "Epoch 23/25\n",
      "1719/1719 [==============================] - 7s 4ms/step - loss: 0.2198 - accuracy: 0.9234 - val_loss: 0.3316 - val_accuracy: 0.8900\n",
      "Epoch 24/25\n",
      "1719/1719 [==============================] - 6s 3ms/step - loss: 0.2187 - accuracy: 0.9244 - val_loss: 0.3312 - val_accuracy: 0.8890\n",
      "Epoch 25/25\n",
      "1719/1719 [==============================] - 5s 3ms/step - loss: 0.2179 - accuracy: 0.9248 - val_loss: 0.3315 - val_accuracy: 0.8890\n"
     ]
    },
    {
     "data": {
      "text/plain": [
       "<keras.callbacks.History at 0x22f8802b0a0>"
      ]
     },
     "execution_count": 203,
     "metadata": {},
     "output_type": "execute_result"
    }
   ],
   "source": [
    "n_epochs = 25\n",
    "model.fit(X_train_scaled, y_train, epochs=n_epochs, \n",
    "         validation_data=(X_valid_scaled, y_valid))"
   ]
  },
  {
   "cell_type": "code",
   "execution_count": 205,
   "id": "b69929d9",
   "metadata": {},
   "outputs": [],
   "source": [
    "# For piecewise constant scheduling, try this: \n",
    "\n",
    "learning_rate = keras.optimizers.schedules.PiecewiseConstantDecay(\n",
    "    boundaries=[5. * n_steps_per_epoch, 15. * n_steps_per_epoch], \n",
    "values=[0.01, 0.005, 0.001])"
   ]
  },
  {
   "cell_type": "code",
   "execution_count": null,
   "id": "f7bcc6d5",
   "metadata": {},
   "outputs": [],
   "source": []
  },
  {
   "cell_type": "markdown",
   "id": "39712594",
   "metadata": {},
   "source": [
    "# Avoiding Overfitting Through Regularization"
   ]
  },
  {
   "cell_type": "code",
   "execution_count": 207,
   "id": "d4232779",
   "metadata": {},
   "outputs": [],
   "source": [
    "layer = keras.layers.Dense(100, activation='elu',\n",
    "                           kernel_initializer='he_normal', \n",
    "                           kernel_regularizer=keras.regularizers.l2(0.01))\n",
    "# or l1(0.1) for ℓ1 regularization with a factor of 0.1\n",
    "# or l1_l2(0.1, 0.01) for both ℓ1 and ℓ2 regularization, with factors 0.1 and 0.01 respectively\n"
   ]
  },
  {
   "cell_type": "code",
   "execution_count": 209,
   "id": "33b7bc7d",
   "metadata": {},
   "outputs": [],
   "source": [
    "from functools import partial\n",
    "\n",
    "RegularizedDense = partial(keras.layers.Dense, activation='elu', \n",
    "                                             kernel_initializer='he_normal',\n",
    "                                             kernel_regularizer=keras.regularizers.l2(0.01))"
   ]
  },
  {
   "cell_type": "code",
   "execution_count": 219,
   "id": "e4c82bfb",
   "metadata": {},
   "outputs": [],
   "source": [
    "model = keras.models.Sequential([\n",
    "    keras.layers.Flatten(input_shape=[28, 28]),\n",
    "    RegularizedDense(300),\n",
    "    RegularizedDense(100),\n",
    "    RegularizedDense(10, activation='softmax', kernel_initializer='glorot_uniform')\n",
    "])"
   ]
  },
  {
   "cell_type": "code",
   "execution_count": 220,
   "id": "b13ad331",
   "metadata": {},
   "outputs": [],
   "source": [
    "model.compile(loss='sparse_categorical_crossentropy', optimizer='nadam',\n",
    "             metrics='accuracy')"
   ]
  },
  {
   "cell_type": "code",
   "execution_count": 221,
   "id": "6c61cd04",
   "metadata": {},
   "outputs": [
    {
     "name": "stdout",
     "output_type": "stream",
     "text": [
      "Epoch 1/25\n",
      "1719/1719 [==============================] - 9s 5ms/step - loss: 1.6274 - accuracy: 0.8132 - val_loss: 0.7043 - val_accuracy: 0.8402\n",
      "Epoch 2/25\n",
      "1719/1719 [==============================] - 8s 5ms/step - loss: 0.7216 - accuracy: 0.8275 - val_loss: 0.6920 - val_accuracy: 0.8360\n",
      "Epoch 3/25\n",
      "1719/1719 [==============================] - 8s 5ms/step - loss: 0.7043 - accuracy: 0.8313 - val_loss: 0.6853 - val_accuracy: 0.8432\n",
      "Epoch 4/25\n",
      "1719/1719 [==============================] - 8s 5ms/step - loss: 0.6965 - accuracy: 0.8366 - val_loss: 0.6730 - val_accuracy: 0.8478\n",
      "Epoch 5/25\n",
      "1719/1719 [==============================] - 9s 5ms/step - loss: 0.6916 - accuracy: 0.8372 - val_loss: 0.6649 - val_accuracy: 0.8482\n",
      "Epoch 6/25\n",
      "1719/1719 [==============================] - 9s 5ms/step - loss: 0.6891 - accuracy: 0.8373 - val_loss: 0.6623 - val_accuracy: 0.8512\n",
      "Epoch 7/25\n",
      "1719/1719 [==============================] - 8s 5ms/step - loss: 0.6867 - accuracy: 0.8385 - val_loss: 0.6596 - val_accuracy: 0.8482\n",
      "Epoch 8/25\n",
      "1719/1719 [==============================] - 8s 5ms/step - loss: 0.6843 - accuracy: 0.8408 - val_loss: 0.7480 - val_accuracy: 0.8216\n",
      "Epoch 9/25\n",
      "1719/1719 [==============================] - 8s 5ms/step - loss: 0.6859 - accuracy: 0.8390 - val_loss: 0.6616 - val_accuracy: 0.8500\n",
      "Epoch 10/25\n",
      "1719/1719 [==============================] - 8s 5ms/step - loss: 0.6808 - accuracy: 0.8399 - val_loss: 0.6575 - val_accuracy: 0.8494\n",
      "Epoch 11/25\n",
      "1719/1719 [==============================] - 10s 6ms/step - loss: 0.6808 - accuracy: 0.8414 - val_loss: 0.6584 - val_accuracy: 0.8506\n",
      "Epoch 12/25\n",
      "1719/1719 [==============================] - 9s 5ms/step - loss: 0.6809 - accuracy: 0.8402 - val_loss: 0.6894 - val_accuracy: 0.8288\n",
      "Epoch 13/25\n",
      "1719/1719 [==============================] - 8s 4ms/step - loss: 0.6781 - accuracy: 0.8416 - val_loss: 0.6810 - val_accuracy: 0.8404\n",
      "Epoch 14/25\n",
      "1719/1719 [==============================] - 9s 5ms/step - loss: 0.6779 - accuracy: 0.8404 - val_loss: 0.6869 - val_accuracy: 0.8364\n",
      "Epoch 15/25\n",
      "1719/1719 [==============================] - 10s 6ms/step - loss: 0.6781 - accuracy: 0.8419 - val_loss: 0.6554 - val_accuracy: 0.8530\n",
      "Epoch 16/25\n",
      "1719/1719 [==============================] - 9s 5ms/step - loss: 0.6776 - accuracy: 0.8419 - val_loss: 0.6570 - val_accuracy: 0.8480\n",
      "Epoch 17/25\n",
      "1719/1719 [==============================] - 9s 5ms/step - loss: 0.6764 - accuracy: 0.8405 - val_loss: 0.6668 - val_accuracy: 0.8518\n",
      "Epoch 18/25\n",
      "1719/1719 [==============================] - 10s 6ms/step - loss: 0.6762 - accuracy: 0.8421 - val_loss: 0.6634 - val_accuracy: 0.8478\n",
      "Epoch 19/25\n",
      "1719/1719 [==============================] - 9s 5ms/step - loss: 0.6762 - accuracy: 0.8417 - val_loss: 0.7013 - val_accuracy: 0.8322\n",
      "Epoch 20/25\n",
      "1719/1719 [==============================] - 8s 5ms/step - loss: 0.6754 - accuracy: 0.8422 - val_loss: 0.6709 - val_accuracy: 0.8422\n",
      "Epoch 21/25\n",
      "1719/1719 [==============================] - 9s 5ms/step - loss: 0.6751 - accuracy: 0.8419 - val_loss: 0.6595 - val_accuracy: 0.8532\n",
      "Epoch 22/25\n",
      "1719/1719 [==============================] - 8s 5ms/step - loss: 0.6751 - accuracy: 0.8416 - val_loss: 0.6651 - val_accuracy: 0.8482\n",
      "Epoch 23/25\n",
      "1719/1719 [==============================] - 8s 5ms/step - loss: 0.6744 - accuracy: 0.8415 - val_loss: 0.6650 - val_accuracy: 0.8542\n",
      "Epoch 24/25\n",
      "1719/1719 [==============================] - 8s 5ms/step - loss: 0.6723 - accuracy: 0.8437 - val_loss: 0.6573 - val_accuracy: 0.8488\n",
      "Epoch 25/25\n",
      "1719/1719 [==============================] - 9s 5ms/step - loss: 0.6739 - accuracy: 0.8413 - val_loss: 0.6610 - val_accuracy: 0.8526\n"
     ]
    }
   ],
   "source": [
    "n_epochs = 25\n",
    "history = model.fit(X_train_scaled, y_train, epochs=n_epochs, \n",
    "          validation_data=(X_valid_scaled, y_valid))"
   ]
  },
  {
   "cell_type": "markdown",
   "id": "b91f9f86",
   "metadata": {},
   "source": [
    "### Dropout"
   ]
  },
  {
   "cell_type": "code",
   "execution_count": 223,
   "id": "35eb4213",
   "metadata": {},
   "outputs": [],
   "source": [
    "model = keras.models.Sequential([\n",
    "    keras.layers.Flatten(input_shape=[28, 28]),\n",
    "    keras.layers.Dropout(rate=0.2),\n",
    "    keras.layers.Dense(300, activation='elu', kernel_initializer='he_normal'),\n",
    "    keras.layers.Dropout(rate=0.2),\n",
    "    keras.layers.Dense(100, activation='elu', kernel_initializer='he_normal'),\n",
    "    keras.layers.Dropout(rate=0.2),\n",
    "    keras.layers.Dense(10, activation='softmax')\n",
    "])"
   ]
  },
  {
   "cell_type": "code",
   "execution_count": 225,
   "id": "87e970dd",
   "metadata": {},
   "outputs": [],
   "source": [
    "model.compile(loss='sparse_categorical_crossentropy', optimizer='nadam',\n",
    "             metrics='accuracy')"
   ]
  },
  {
   "cell_type": "code",
   "execution_count": 227,
   "id": "6c153efe",
   "metadata": {
    "scrolled": true
   },
   "outputs": [
    {
     "name": "stdout",
     "output_type": "stream",
     "text": [
      "Epoch 1/25\n",
      "1719/1719 [==============================] - 11s 5ms/step - loss: 0.5668 - accuracy: 0.8047 - val_loss: 0.3713 - val_accuracy: 0.8672\n",
      "Epoch 2/25\n",
      "1719/1719 [==============================] - 9s 5ms/step - loss: 0.4272 - accuracy: 0.8425 - val_loss: 0.3407 - val_accuracy: 0.8746\n",
      "Epoch 3/25\n",
      "1719/1719 [==============================] - 9s 5ms/step - loss: 0.3940 - accuracy: 0.8544 - val_loss: 0.3437 - val_accuracy: 0.8754\n",
      "Epoch 4/25\n",
      "1719/1719 [==============================] - 9s 5ms/step - loss: 0.3750 - accuracy: 0.8618 - val_loss: 0.3249 - val_accuracy: 0.8828\n",
      "Epoch 5/25\n",
      "1719/1719 [==============================] - 9s 5ms/step - loss: 0.3605 - accuracy: 0.8659 - val_loss: 0.3252 - val_accuracy: 0.8848\n",
      "Epoch 6/25\n",
      "1719/1719 [==============================] - 9s 5ms/step - loss: 0.3493 - accuracy: 0.8691 - val_loss: 0.3250 - val_accuracy: 0.8834\n",
      "Epoch 7/25\n",
      "1719/1719 [==============================] - 9s 5ms/step - loss: 0.3456 - accuracy: 0.8719 - val_loss: 0.3359 - val_accuracy: 0.8836\n",
      "Epoch 8/25\n",
      "1719/1719 [==============================] - 10s 6ms/step - loss: 0.3333 - accuracy: 0.8753 - val_loss: 0.3062 - val_accuracy: 0.8880\n",
      "Epoch 9/25\n",
      "1719/1719 [==============================] - 10s 6ms/step - loss: 0.3287 - accuracy: 0.8768 - val_loss: 0.3120 - val_accuracy: 0.8856\n",
      "Epoch 10/25\n",
      "1719/1719 [==============================] - 10s 6ms/step - loss: 0.3230 - accuracy: 0.8803 - val_loss: 0.3017 - val_accuracy: 0.8900\n",
      "Epoch 11/25\n",
      "1719/1719 [==============================] - 9s 5ms/step - loss: 0.3171 - accuracy: 0.8821 - val_loss: 0.3163 - val_accuracy: 0.8860\n",
      "Epoch 12/25\n",
      "1719/1719 [==============================] - 9s 5ms/step - loss: 0.3102 - accuracy: 0.8829 - val_loss: 0.3077 - val_accuracy: 0.8854\n",
      "Epoch 13/25\n",
      "1719/1719 [==============================] - 10s 6ms/step - loss: 0.3042 - accuracy: 0.8856 - val_loss: 0.3084 - val_accuracy: 0.8872\n",
      "Epoch 14/25\n",
      "1719/1719 [==============================] - 9s 5ms/step - loss: 0.3051 - accuracy: 0.8853 - val_loss: 0.3102 - val_accuracy: 0.8876\n",
      "Epoch 15/25\n",
      "1719/1719 [==============================] - 9s 5ms/step - loss: 0.2957 - accuracy: 0.8890 - val_loss: 0.3068 - val_accuracy: 0.8918\n",
      "Epoch 16/25\n",
      "1719/1719 [==============================] - 8s 5ms/step - loss: 0.2960 - accuracy: 0.8878 - val_loss: 0.3224 - val_accuracy: 0.8890\n",
      "Epoch 17/25\n",
      "1719/1719 [==============================] - 9s 5ms/step - loss: 0.2931 - accuracy: 0.8895 - val_loss: 0.3183 - val_accuracy: 0.8856\n",
      "Epoch 18/25\n",
      "1719/1719 [==============================] - 9s 5ms/step - loss: 0.2919 - accuracy: 0.8922 - val_loss: 0.2993 - val_accuracy: 0.8934\n",
      "Epoch 19/25\n",
      "1719/1719 [==============================] - 9s 5ms/step - loss: 0.2871 - accuracy: 0.8907 - val_loss: 0.3172 - val_accuracy: 0.8874\n",
      "Epoch 20/25\n",
      "1719/1719 [==============================] - 9s 6ms/step - loss: 0.2809 - accuracy: 0.8944 - val_loss: 0.3051 - val_accuracy: 0.8888\n",
      "Epoch 21/25\n",
      "1719/1719 [==============================] - 9s 5ms/step - loss: 0.2784 - accuracy: 0.8962 - val_loss: 0.3123 - val_accuracy: 0.8936\n",
      "Epoch 22/25\n",
      "1719/1719 [==============================] - 9s 5ms/step - loss: 0.2769 - accuracy: 0.8972 - val_loss: 0.3026 - val_accuracy: 0.8928\n",
      "Epoch 23/25\n",
      "1719/1719 [==============================] - 8s 5ms/step - loss: 0.2805 - accuracy: 0.8959 - val_loss: 0.2909 - val_accuracy: 0.8960\n",
      "Epoch 24/25\n",
      "1719/1719 [==============================] - 9s 5ms/step - loss: 0.2751 - accuracy: 0.8965 - val_loss: 0.3144 - val_accuracy: 0.8922\n",
      "Epoch 25/25\n",
      "1719/1719 [==============================] - 8s 5ms/step - loss: 0.2723 - accuracy: 0.8988 - val_loss: 0.3051 - val_accuracy: 0.8956\n"
     ]
    }
   ],
   "source": [
    "n_epochs=25\n",
    "history = model.fit(X_train_scaled, y_train, epochs=n_epochs,\n",
    "                   validation_data=(X_valid_scaled, y_valid))"
   ]
  },
  {
   "cell_type": "markdown",
   "id": "7942d1e5",
   "metadata": {},
   "source": [
    "### Alpha Dropout"
   ]
  },
  {
   "cell_type": "code",
   "execution_count": 230,
   "id": "168dfbac",
   "metadata": {},
   "outputs": [],
   "source": [
    "tf.random.set_seed(42)\n",
    "np.random.seed(42)"
   ]
  },
  {
   "cell_type": "code",
   "execution_count": 231,
   "id": "55198c4c",
   "metadata": {},
   "outputs": [],
   "source": [
    "model = keras.models.Sequential([\n",
    "    keras.layers.Flatten(input_shape=[28, 28]),\n",
    "    keras.layers.AlphaDropout(rate=0.2),\n",
    "    keras.layers.Dense(300, activation='elu', kernel_initializer='he_normal'),\n",
    "    keras.layers.AlphaDropout(rate=0.2),\n",
    "    keras.layers.Dense(100, activation='elu', kernel_initializer='he_normal'),\n",
    "    keras.layers.AlphaDropout(rate=0.2),\n",
    "    keras.layers.Dense(10, activation='softmax')\n",
    "])"
   ]
  },
  {
   "cell_type": "code",
   "execution_count": 232,
   "id": "96279f76",
   "metadata": {},
   "outputs": [
    {
     "name": "stdout",
     "output_type": "stream",
     "text": [
      "Epoch 1/20\n",
      "1719/1719 [==============================] - 9s 5ms/step - loss: 0.7135 - accuracy: 0.7384 - val_loss: 0.5925 - val_accuracy: 0.8406\n",
      "Epoch 2/20\n",
      "1719/1719 [==============================] - 8s 4ms/step - loss: 0.5736 - accuracy: 0.7873 - val_loss: 0.5583 - val_accuracy: 0.8476\n",
      "Epoch 3/20\n",
      "1719/1719 [==============================] - 8s 4ms/step - loss: 0.5409 - accuracy: 0.8000 - val_loss: 0.5605 - val_accuracy: 0.8486\n",
      "Epoch 4/20\n",
      "1719/1719 [==============================] - 8s 4ms/step - loss: 0.5199 - accuracy: 0.8073 - val_loss: 0.5077 - val_accuracy: 0.8612\n",
      "Epoch 5/20\n",
      "1719/1719 [==============================] - 8s 5ms/step - loss: 0.5062 - accuracy: 0.8112 - val_loss: 0.4624 - val_accuracy: 0.8680\n",
      "Epoch 6/20\n",
      "1719/1719 [==============================] - 8s 5ms/step - loss: 0.4970 - accuracy: 0.8157 - val_loss: 0.4909 - val_accuracy: 0.8598\n",
      "Epoch 7/20\n",
      "1719/1719 [==============================] - 9s 5ms/step - loss: 0.4851 - accuracy: 0.8173 - val_loss: 0.4846 - val_accuracy: 0.8630\n",
      "Epoch 8/20\n",
      "1719/1719 [==============================] - 8s 5ms/step - loss: 0.4805 - accuracy: 0.8213 - val_loss: 0.4563 - val_accuracy: 0.8652\n",
      "Epoch 9/20\n",
      "1719/1719 [==============================] - 8s 5ms/step - loss: 0.4708 - accuracy: 0.8250 - val_loss: 0.4605 - val_accuracy: 0.8674\n",
      "Epoch 10/20\n",
      "1719/1719 [==============================] - 8s 5ms/step - loss: 0.4615 - accuracy: 0.8264 - val_loss: 0.4715 - val_accuracy: 0.8662\n",
      "Epoch 11/20\n",
      "1719/1719 [==============================] - 8s 5ms/step - loss: 0.4626 - accuracy: 0.8266 - val_loss: 0.4468 - val_accuracy: 0.8690\n",
      "Epoch 12/20\n",
      "1719/1719 [==============================] - 8s 4ms/step - loss: 0.4557 - accuracy: 0.8291 - val_loss: 0.5129 - val_accuracy: 0.8636\n",
      "Epoch 13/20\n",
      "1719/1719 [==============================] - 8s 5ms/step - loss: 0.4522 - accuracy: 0.8317 - val_loss: 0.4363 - val_accuracy: 0.8730\n",
      "Epoch 14/20\n",
      "1719/1719 [==============================] - 8s 5ms/step - loss: 0.4486 - accuracy: 0.8328 - val_loss: 0.4509 - val_accuracy: 0.8680\n",
      "Epoch 15/20\n",
      "1719/1719 [==============================] - 9s 5ms/step - loss: 0.4432 - accuracy: 0.8369 - val_loss: 0.4471 - val_accuracy: 0.8740\n",
      "Epoch 16/20\n",
      "1719/1719 [==============================] - 8s 5ms/step - loss: 0.4411 - accuracy: 0.8349 - val_loss: 0.4280 - val_accuracy: 0.8766\n",
      "Epoch 17/20\n",
      "1719/1719 [==============================] - 8s 5ms/step - loss: 0.4367 - accuracy: 0.8357 - val_loss: 0.4823 - val_accuracy: 0.8722\n",
      "Epoch 18/20\n",
      "1719/1719 [==============================] - 8s 5ms/step - loss: 0.4337 - accuracy: 0.8386 - val_loss: 0.4629 - val_accuracy: 0.8760\n",
      "Epoch 19/20\n",
      "1719/1719 [==============================] - 8s 5ms/step - loss: 0.4305 - accuracy: 0.8384 - val_loss: 0.4649 - val_accuracy: 0.8724\n",
      "Epoch 20/20\n",
      "1719/1719 [==============================] - 8s 4ms/step - loss: 0.4269 - accuracy: 0.8418 - val_loss: 0.4567 - val_accuracy: 0.8682\n"
     ]
    }
   ],
   "source": [
    "optimizer = keras.optimizers.SGD(learning_rate=0.01, momentum=0.9, nesterov=True)\n",
    "model.compile(loss=\"sparse_categorical_crossentropy\", optimizer=optimizer, metrics=[\"accuracy\"])\n",
    "n_epochs = 20\n",
    "history = model.fit(X_train_scaled, y_train, epochs=n_epochs,\n",
    "                    validation_data=(X_valid_scaled, y_valid))"
   ]
  },
  {
   "cell_type": "code",
   "execution_count": 233,
   "id": "d7631c55",
   "metadata": {},
   "outputs": [
    {
     "name": "stdout",
     "output_type": "stream",
     "text": [
      "313/313 [==============================] - 1s 2ms/step - loss: 0.5055 - accuracy: 0.8590\n"
     ]
    },
    {
     "data": {
      "text/plain": [
       "[0.5054994821548462, 0.859000027179718]"
      ]
     },
     "execution_count": 233,
     "metadata": {},
     "output_type": "execute_result"
    }
   ],
   "source": [
    "model.evaluate(X_test_scaled, y_test)"
   ]
  },
  {
   "cell_type": "code",
   "execution_count": 234,
   "id": "4465a705",
   "metadata": {},
   "outputs": [
    {
     "name": "stdout",
     "output_type": "stream",
     "text": [
      "1719/1719 [==============================] - 4s 2ms/step - loss: 0.3950 - accuracy: 0.8783\n"
     ]
    },
    {
     "data": {
      "text/plain": [
       "[0.39499345421791077, 0.8783090710639954]"
      ]
     },
     "execution_count": 234,
     "metadata": {},
     "output_type": "execute_result"
    }
   ],
   "source": [
    "model.evaluate(X_train_scaled, y_train)"
   ]
  },
  {
   "cell_type": "markdown",
   "id": "914b222f",
   "metadata": {},
   "source": [
    "### Monte-Carlo (MC) Dropout"
   ]
  },
  {
   "cell_type": "code",
   "execution_count": 248,
   "id": "e72e6b43",
   "metadata": {},
   "outputs": [],
   "source": [
    "tf.random.set_seed(42)\n",
    "np.random.seed(42)"
   ]
  },
  {
   "cell_type": "code",
   "execution_count": 249,
   "id": "626bcc0e",
   "metadata": {},
   "outputs": [],
   "source": [
    "y_probas = np.stack([model(X_test_scaled, training=True) # Bật chế độ huấn luyện để các tham số có thể được cập nhật\n",
    "                    for sample in range(100)])"
   ]
  },
  {
   "cell_type": "code",
   "execution_count": 250,
   "id": "3fddd1cc",
   "metadata": {},
   "outputs": [],
   "source": [
    "y_proba = y_probas.mean(axis=0)\n",
    "y_std = y_probas.std(axis=0)"
   ]
  },
  {
   "cell_type": "code",
   "execution_count": 251,
   "id": "1fc33420",
   "metadata": {},
   "outputs": [
    {
     "name": "stdout",
     "output_type": "stream",
     "text": [
      "1/1 [==============================] - 0s 40ms/step\n"
     ]
    },
    {
     "data": {
      "text/plain": [
       "array([[0., 0., 0., 0., 0., 0., 0., 0., 0., 1.]], dtype=float32)"
      ]
     },
     "execution_count": 251,
     "metadata": {},
     "output_type": "execute_result"
    }
   ],
   "source": [
    "np.round(model.predict(X_test_scaled[:1]), 2)"
   ]
  },
  {
   "cell_type": "code",
   "execution_count": 252,
   "id": "e3bd90d4",
   "metadata": {},
   "outputs": [
    {
     "data": {
      "text/plain": [
       "array([[[0.  , 0.  , 0.  , 0.  , 0.  , 0.08, 0.  , 0.1 , 0.  , 0.82]],\n",
       "\n",
       "       [[0.  , 0.  , 0.  , 0.  , 0.  , 0.01, 0.  , 0.38, 0.  , 0.61]],\n",
       "\n",
       "       [[0.  , 0.  , 0.  , 0.  , 0.  , 0.03, 0.  , 0.03, 0.  , 0.95]],\n",
       "\n",
       "       [[0.  , 0.  , 0.  , 0.  , 0.  , 0.11, 0.  , 0.29, 0.  , 0.59]],\n",
       "\n",
       "       [[0.  , 0.  , 0.  , 0.  , 0.  , 0.27, 0.  , 0.09, 0.  , 0.64]],\n",
       "\n",
       "       [[0.  , 0.  , 0.  , 0.  , 0.  , 0.19, 0.  , 0.13, 0.  , 0.68]],\n",
       "\n",
       "       [[0.  , 0.  , 0.  , 0.  , 0.  , 0.01, 0.  , 0.  , 0.  , 0.99]],\n",
       "\n",
       "       [[0.  , 0.  , 0.  , 0.  , 0.  , 0.39, 0.  , 0.02, 0.  , 0.58]],\n",
       "\n",
       "       [[0.  , 0.  , 0.  , 0.  , 0.  , 0.  , 0.  , 0.06, 0.  , 0.94]],\n",
       "\n",
       "       [[0.  , 0.  , 0.  , 0.  , 0.  , 0.  , 0.  , 0.  , 0.  , 1.  ]],\n",
       "\n",
       "       [[0.  , 0.  , 0.  , 0.  , 0.  , 0.01, 0.  , 0.01, 0.  , 0.99]],\n",
       "\n",
       "       [[0.  , 0.  , 0.  , 0.  , 0.  , 0.06, 0.  , 0.05, 0.  , 0.89]],\n",
       "\n",
       "       [[0.  , 0.  , 0.  , 0.  , 0.  , 0.  , 0.  , 0.01, 0.  , 0.99]],\n",
       "\n",
       "       [[0.  , 0.  , 0.  , 0.  , 0.  , 0.14, 0.  , 0.07, 0.  , 0.8 ]],\n",
       "\n",
       "       [[0.  , 0.  , 0.  , 0.  , 0.  , 0.01, 0.  , 0.12, 0.  , 0.86]],\n",
       "\n",
       "       [[0.  , 0.  , 0.  , 0.  , 0.  , 0.  , 0.  , 0.2 , 0.  , 0.8 ]],\n",
       "\n",
       "       [[0.  , 0.  , 0.  , 0.  , 0.  , 0.33, 0.  , 0.02, 0.  , 0.66]],\n",
       "\n",
       "       [[0.  , 0.  , 0.  , 0.  , 0.  , 0.02, 0.  , 0.09, 0.  , 0.89]],\n",
       "\n",
       "       [[0.  , 0.  , 0.  , 0.  , 0.  , 0.12, 0.  , 0.11, 0.  , 0.77]],\n",
       "\n",
       "       [[0.  , 0.  , 0.  , 0.  , 0.  , 0.24, 0.  , 0.21, 0.  , 0.56]],\n",
       "\n",
       "       [[0.  , 0.  , 0.  , 0.  , 0.  , 0.45, 0.  , 0.22, 0.  , 0.33]],\n",
       "\n",
       "       [[0.  , 0.  , 0.  , 0.  , 0.  , 0.09, 0.  , 0.75, 0.  , 0.16]],\n",
       "\n",
       "       [[0.  , 0.  , 0.  , 0.  , 0.  , 0.03, 0.  , 0.01, 0.  , 0.96]],\n",
       "\n",
       "       [[0.  , 0.  , 0.  , 0.  , 0.  , 0.02, 0.  , 0.02, 0.  , 0.96]],\n",
       "\n",
       "       [[0.  , 0.  , 0.  , 0.  , 0.  , 0.01, 0.  , 0.36, 0.  , 0.63]],\n",
       "\n",
       "       [[0.  , 0.  , 0.  , 0.  , 0.  , 0.04, 0.  , 0.02, 0.  , 0.94]],\n",
       "\n",
       "       [[0.  , 0.  , 0.  , 0.  , 0.  , 0.05, 0.  , 0.48, 0.  , 0.47]],\n",
       "\n",
       "       [[0.  , 0.  , 0.  , 0.  , 0.  , 0.  , 0.  , 0.08, 0.  , 0.92]],\n",
       "\n",
       "       [[0.  , 0.  , 0.  , 0.  , 0.  , 0.01, 0.  , 0.15, 0.  , 0.84]],\n",
       "\n",
       "       [[0.  , 0.  , 0.  , 0.  , 0.  , 0.05, 0.  , 0.85, 0.  , 0.11]],\n",
       "\n",
       "       [[0.  , 0.  , 0.  , 0.  , 0.  , 0.02, 0.  , 0.45, 0.  , 0.53]],\n",
       "\n",
       "       [[0.  , 0.  , 0.  , 0.  , 0.  , 0.41, 0.  , 0.12, 0.  , 0.47]],\n",
       "\n",
       "       [[0.  , 0.  , 0.  , 0.  , 0.  , 0.02, 0.  , 0.03, 0.  , 0.95]],\n",
       "\n",
       "       [[0.  , 0.  , 0.  , 0.  , 0.  , 0.  , 0.  , 0.06, 0.  , 0.93]],\n",
       "\n",
       "       [[0.  , 0.  , 0.  , 0.  , 0.  , 0.19, 0.  , 0.01, 0.  , 0.8 ]],\n",
       "\n",
       "       [[0.  , 0.  , 0.  , 0.  , 0.  , 0.16, 0.  , 0.41, 0.  , 0.43]],\n",
       "\n",
       "       [[0.  , 0.  , 0.  , 0.  , 0.  , 0.04, 0.  , 0.05, 0.  , 0.91]],\n",
       "\n",
       "       [[0.  , 0.  , 0.  , 0.  , 0.  , 0.05, 0.  , 0.01, 0.  , 0.94]],\n",
       "\n",
       "       [[0.  , 0.  , 0.  , 0.  , 0.  , 0.08, 0.  , 0.02, 0.  , 0.9 ]],\n",
       "\n",
       "       [[0.  , 0.  , 0.  , 0.  , 0.  , 0.  , 0.  , 0.02, 0.  , 0.98]],\n",
       "\n",
       "       [[0.  , 0.  , 0.  , 0.  , 0.  , 0.1 , 0.  , 0.04, 0.  , 0.86]],\n",
       "\n",
       "       [[0.  , 0.  , 0.  , 0.  , 0.  , 0.84, 0.  , 0.07, 0.  , 0.08]],\n",
       "\n",
       "       [[0.  , 0.  , 0.  , 0.  , 0.  , 0.  , 0.  , 0.07, 0.  , 0.93]],\n",
       "\n",
       "       [[0.  , 0.  , 0.  , 0.  , 0.  , 0.01, 0.  , 0.17, 0.  , 0.82]],\n",
       "\n",
       "       [[0.  , 0.  , 0.  , 0.  , 0.  , 0.11, 0.  , 0.27, 0.  , 0.61]],\n",
       "\n",
       "       [[0.  , 0.  , 0.  , 0.  , 0.  , 0.13, 0.  , 0.12, 0.  , 0.75]],\n",
       "\n",
       "       [[0.  , 0.  , 0.  , 0.  , 0.  , 0.1 , 0.  , 0.21, 0.  , 0.69]],\n",
       "\n",
       "       [[0.  , 0.  , 0.  , 0.  , 0.  , 0.01, 0.  , 0.09, 0.  , 0.9 ]],\n",
       "\n",
       "       [[0.  , 0.  , 0.  , 0.  , 0.  , 0.  , 0.  , 0.46, 0.  , 0.54]],\n",
       "\n",
       "       [[0.  , 0.  , 0.  , 0.  , 0.  , 0.63, 0.  , 0.08, 0.  , 0.29]],\n",
       "\n",
       "       [[0.  , 0.  , 0.  , 0.  , 0.  , 0.65, 0.  , 0.03, 0.  , 0.32]],\n",
       "\n",
       "       [[0.  , 0.  , 0.  , 0.  , 0.  , 0.28, 0.  , 0.36, 0.  , 0.36]],\n",
       "\n",
       "       [[0.  , 0.  , 0.  , 0.  , 0.  , 0.15, 0.  , 0.32, 0.  , 0.53]],\n",
       "\n",
       "       [[0.  , 0.  , 0.  , 0.  , 0.  , 0.08, 0.  , 0.26, 0.  , 0.66]],\n",
       "\n",
       "       [[0.  , 0.  , 0.  , 0.  , 0.  , 0.02, 0.  , 0.21, 0.  , 0.77]],\n",
       "\n",
       "       [[0.  , 0.  , 0.  , 0.  , 0.  , 0.  , 0.  , 0.03, 0.  , 0.97]],\n",
       "\n",
       "       [[0.  , 0.  , 0.  , 0.  , 0.  , 0.  , 0.  , 0.02, 0.  , 0.97]],\n",
       "\n",
       "       [[0.  , 0.  , 0.  , 0.  , 0.  , 0.01, 0.  , 0.02, 0.  , 0.97]],\n",
       "\n",
       "       [[0.  , 0.  , 0.  , 0.  , 0.  , 0.04, 0.  , 0.83, 0.  , 0.12]],\n",
       "\n",
       "       [[0.  , 0.  , 0.  , 0.  , 0.  , 0.13, 0.  , 0.05, 0.  , 0.82]],\n",
       "\n",
       "       [[0.  , 0.  , 0.  , 0.  , 0.  , 0.12, 0.  , 0.15, 0.  , 0.73]],\n",
       "\n",
       "       [[0.  , 0.  , 0.  , 0.  , 0.  , 0.07, 0.  , 0.1 , 0.  , 0.83]],\n",
       "\n",
       "       [[0.  , 0.  , 0.  , 0.  , 0.  , 0.02, 0.  , 0.29, 0.  , 0.7 ]],\n",
       "\n",
       "       [[0.  , 0.  , 0.  , 0.  , 0.  , 0.05, 0.  , 0.08, 0.  , 0.87]],\n",
       "\n",
       "       [[0.  , 0.  , 0.  , 0.  , 0.  , 0.01, 0.  , 0.02, 0.  , 0.97]],\n",
       "\n",
       "       [[0.  , 0.  , 0.  , 0.  , 0.  , 0.1 , 0.  , 0.47, 0.  , 0.43]],\n",
       "\n",
       "       [[0.  , 0.  , 0.  , 0.  , 0.  , 0.  , 0.  , 0.11, 0.  , 0.89]],\n",
       "\n",
       "       [[0.  , 0.  , 0.  , 0.  , 0.  , 0.08, 0.  , 0.03, 0.  , 0.89]],\n",
       "\n",
       "       [[0.  , 0.  , 0.  , 0.  , 0.  , 0.03, 0.  , 0.19, 0.  , 0.78]],\n",
       "\n",
       "       [[0.  , 0.  , 0.  , 0.  , 0.  , 0.29, 0.  , 0.  , 0.  , 0.71]],\n",
       "\n",
       "       [[0.  , 0.  , 0.  , 0.  , 0.  , 0.07, 0.  , 0.32, 0.  , 0.6 ]],\n",
       "\n",
       "       [[0.  , 0.  , 0.  , 0.  , 0.  , 0.01, 0.  , 0.  , 0.  , 0.99]],\n",
       "\n",
       "       [[0.  , 0.  , 0.  , 0.  , 0.  , 0.05, 0.  , 0.01, 0.  , 0.93]],\n",
       "\n",
       "       [[0.  , 0.  , 0.  , 0.  , 0.  , 0.1 , 0.  , 0.  , 0.  , 0.9 ]],\n",
       "\n",
       "       [[0.  , 0.  , 0.  , 0.  , 0.  , 0.01, 0.  , 0.39, 0.  , 0.6 ]],\n",
       "\n",
       "       [[0.  , 0.  , 0.  , 0.  , 0.  , 0.08, 0.  , 0.85, 0.  , 0.07]],\n",
       "\n",
       "       [[0.  , 0.  , 0.  , 0.  , 0.  , 0.06, 0.  , 0.45, 0.  , 0.5 ]],\n",
       "\n",
       "       [[0.  , 0.  , 0.  , 0.  , 0.  , 0.86, 0.  , 0.12, 0.  , 0.03]],\n",
       "\n",
       "       [[0.  , 0.  , 0.  , 0.  , 0.  , 0.03, 0.  , 0.68, 0.  , 0.29]],\n",
       "\n",
       "       [[0.  , 0.  , 0.  , 0.  , 0.  , 0.  , 0.  , 0.24, 0.  , 0.76]],\n",
       "\n",
       "       [[0.  , 0.  , 0.  , 0.  , 0.  , 0.13, 0.  , 0.39, 0.  , 0.49]],\n",
       "\n",
       "       [[0.  , 0.  , 0.  , 0.  , 0.  , 0.05, 0.  , 0.2 , 0.  , 0.75]],\n",
       "\n",
       "       [[0.  , 0.  , 0.  , 0.  , 0.  , 0.01, 0.  , 0.01, 0.  , 0.98]],\n",
       "\n",
       "       [[0.  , 0.  , 0.  , 0.  , 0.  , 0.22, 0.  , 0.3 , 0.  , 0.48]],\n",
       "\n",
       "       [[0.  , 0.  , 0.  , 0.  , 0.  , 0.  , 0.  , 0.3 , 0.  , 0.7 ]],\n",
       "\n",
       "       [[0.  , 0.  , 0.  , 0.  , 0.  , 0.07, 0.  , 0.04, 0.  , 0.9 ]],\n",
       "\n",
       "       [[0.  , 0.  , 0.  , 0.  , 0.  , 0.  , 0.  , 0.18, 0.  , 0.82]],\n",
       "\n",
       "       [[0.  , 0.  , 0.  , 0.  , 0.  , 0.35, 0.  , 0.03, 0.  , 0.62]],\n",
       "\n",
       "       [[0.  , 0.  , 0.  , 0.  , 0.  , 0.  , 0.  , 0.03, 0.  , 0.97]],\n",
       "\n",
       "       [[0.  , 0.  , 0.  , 0.  , 0.  , 0.  , 0.  , 0.03, 0.  , 0.97]],\n",
       "\n",
       "       [[0.  , 0.  , 0.  , 0.  , 0.  , 0.07, 0.  , 0.03, 0.  , 0.91]],\n",
       "\n",
       "       [[0.  , 0.  , 0.  , 0.  , 0.  , 0.  , 0.  , 0.09, 0.  , 0.91]],\n",
       "\n",
       "       [[0.  , 0.  , 0.  , 0.  , 0.  , 0.36, 0.  , 0.29, 0.  , 0.34]],\n",
       "\n",
       "       [[0.  , 0.  , 0.  , 0.  , 0.  , 0.19, 0.  , 0.09, 0.  , 0.72]],\n",
       "\n",
       "       [[0.  , 0.  , 0.  , 0.  , 0.  , 0.1 , 0.  , 0.12, 0.  , 0.78]],\n",
       "\n",
       "       [[0.  , 0.  , 0.  , 0.  , 0.  , 0.21, 0.  , 0.09, 0.  , 0.7 ]],\n",
       "\n",
       "       [[0.  , 0.  , 0.  , 0.  , 0.  , 0.05, 0.  , 0.71, 0.  , 0.24]],\n",
       "\n",
       "       [[0.  , 0.  , 0.  , 0.  , 0.  , 0.26, 0.  , 0.16, 0.  , 0.58]],\n",
       "\n",
       "       [[0.  , 0.  , 0.  , 0.  , 0.  , 0.  , 0.  , 0.01, 0.  , 0.99]],\n",
       "\n",
       "       [[0.  , 0.  , 0.  , 0.  , 0.  , 0.01, 0.  , 0.9 , 0.  , 0.09]]],\n",
       "      dtype=float32)"
      ]
     },
     "execution_count": 252,
     "metadata": {},
     "output_type": "execute_result"
    }
   ],
   "source": [
    "np.round(y_probas[:, :1], 2)"
   ]
  },
  {
   "cell_type": "code",
   "execution_count": 253,
   "id": "c805b112",
   "metadata": {},
   "outputs": [
    {
     "data": {
      "text/plain": [
       "array([[0.  , 0.  , 0.  , 0.  , 0.  , 0.11, 0.  , 0.18, 0.  , 0.71]],\n",
       "      dtype=float32)"
      ]
     },
     "execution_count": 253,
     "metadata": {},
     "output_type": "execute_result"
    }
   ],
   "source": [
    "np.round(y_proba[:1], 2)"
   ]
  },
  {
   "cell_type": "code",
   "execution_count": 260,
   "id": "b54343c9",
   "metadata": {},
   "outputs": [
    {
     "data": {
      "text/plain": [
       "array([[0.  , 0.  , 0.  , 0.  , 0.  , 0.17, 0.  , 0.21, 0.  , 0.26]],\n",
       "      dtype=float32)"
      ]
     },
     "execution_count": 260,
     "metadata": {},
     "output_type": "execute_result"
    }
   ],
   "source": [
    "np.round(y_std[:1], 2)"
   ]
  },
  {
   "cell_type": "code",
   "execution_count": 262,
   "id": "4bfba67c",
   "metadata": {},
   "outputs": [],
   "source": [
    "y_pred = np.argmax(y_proba, axis=1)"
   ]
  },
  {
   "cell_type": "code",
   "execution_count": 265,
   "id": "654ec8be",
   "metadata": {},
   "outputs": [
    {
     "data": {
      "text/plain": [
       "0.8576"
      ]
     },
     "execution_count": 265,
     "metadata": {},
     "output_type": "execute_result"
    }
   ],
   "source": [
    "accuracy = np.sum(y_pred == y_test) / len(y_test)\n",
    "accuracy"
   ]
  },
  {
   "cell_type": "code",
   "execution_count": 266,
   "id": "095ed677",
   "metadata": {},
   "outputs": [
    {
     "name": "stdout",
     "output_type": "stream",
     "text": [
      "313/313 [==============================] - 1s 2ms/step - loss: 0.5055 - accuracy: 0.8590\n"
     ]
    },
    {
     "data": {
      "text/plain": [
       "[0.5054994821548462, 0.859000027179718]"
      ]
     },
     "execution_count": 266,
     "metadata": {},
     "output_type": "execute_result"
    }
   ],
   "source": [
    "model.evaluate(X_test_scaled, y_test)"
   ]
  },
  {
   "cell_type": "code",
   "execution_count": 267,
   "id": "fe4967e9",
   "metadata": {},
   "outputs": [],
   "source": [
    "class MCDropout(keras.layers.Dropout):\n",
    "    def call(self, inputs):\n",
    "        return super().call(input, training=True)\n",
    "\n",
    "class MCAlphaDropout(keras.layers.AlphaDropout):\n",
    "    def call(self, inputs):\n",
    "        return super().call(inputs, training=True)"
   ]
  },
  {
   "cell_type": "code",
   "execution_count": 268,
   "id": "c9a244eb",
   "metadata": {},
   "outputs": [],
   "source": [
    "tf.random.set_seed(42)\n",
    "np.random.seed(42)"
   ]
  },
  {
   "cell_type": "code",
   "execution_count": 270,
   "id": "3138cec5",
   "metadata": {},
   "outputs": [],
   "source": [
    "mc_model = keras.models.Sequential([\n",
    "    MCAlphaDropout(layer.rate) if isinstance(layer, keras.layers.AlphaDropout) else layer # isinstance kiểm tra xem đối tượng có thuộc một lớp cụ thể hay không\n",
    "    for layer in model.layers \n",
    "])"
   ]
  },
  {
   "cell_type": "code",
   "execution_count": 272,
   "id": "3f815d47",
   "metadata": {},
   "outputs": [
    {
     "name": "stdout",
     "output_type": "stream",
     "text": [
      "Model: \"sequential_32\"\n",
      "_________________________________________________________________\n",
      " Layer (type)                Output Shape              Param #   \n",
      "=================================================================\n",
      " flatten_26 (Flatten)        (None, 784)               0         \n",
      "                                                                 \n",
      " mc_alpha_dropout_3 (MCAlpha  (None, 784)              0         \n",
      " Dropout)                                                        \n",
      "                                                                 \n",
      " dense_196 (Dense)           (None, 300)               235500    \n",
      "                                                                 \n",
      " mc_alpha_dropout_4 (MCAlpha  (None, 300)              0         \n",
      " Dropout)                                                        \n",
      "                                                                 \n",
      " dense_197 (Dense)           (None, 100)               30100     \n",
      "                                                                 \n",
      " mc_alpha_dropout_5 (MCAlpha  (None, 100)              0         \n",
      " Dropout)                                                        \n",
      "                                                                 \n",
      " dense_198 (Dense)           (None, 10)                1010      \n",
      "                                                                 \n",
      "=================================================================\n",
      "Total params: 266,610\n",
      "Trainable params: 266,610\n",
      "Non-trainable params: 0\n",
      "_________________________________________________________________\n"
     ]
    }
   ],
   "source": [
    "mc_model.summary()"
   ]
  },
  {
   "cell_type": "code",
   "execution_count": 273,
   "id": "71ca530f",
   "metadata": {},
   "outputs": [],
   "source": [
    "optimizer = keras.optimizers.SGD(learning_rate=0.01, momentum=0.9)\n",
    "model.compile(loss='sparse_categorical_crossentropy', optimizer=optimizer, metrics='accuracy')"
   ]
  },
  {
   "cell_type": "code",
   "execution_count": 275,
   "id": "5f4f33ce",
   "metadata": {},
   "outputs": [],
   "source": [
    "mc_model.set_weights(model.get_weights())"
   ]
  },
  {
   "cell_type": "code",
   "execution_count": 276,
   "id": "8b276d3e",
   "metadata": {},
   "outputs": [
    {
     "name": "stdout",
     "output_type": "stream",
     "text": [
      "1/1 [==============================] - 0s 153ms/step\n",
      "1/1 [==============================] - 0s 24ms/step\n",
      "1/1 [==============================] - 0s 25ms/step\n",
      "1/1 [==============================] - 0s 26ms/step\n",
      "1/1 [==============================] - 0s 24ms/step\n",
      "1/1 [==============================] - 0s 23ms/step\n",
      "1/1 [==============================] - 0s 25ms/step\n",
      "1/1 [==============================] - 0s 29ms/step\n",
      "1/1 [==============================] - 0s 23ms/step\n",
      "1/1 [==============================] - 0s 22ms/step\n",
      "1/1 [==============================] - 0s 24ms/step\n",
      "1/1 [==============================] - 0s 27ms/step\n",
      "1/1 [==============================] - 0s 28ms/step\n",
      "1/1 [==============================] - 0s 26ms/step\n",
      "1/1 [==============================] - 0s 25ms/step\n",
      "1/1 [==============================] - 0s 23ms/step\n",
      "1/1 [==============================] - 0s 24ms/step\n",
      "1/1 [==============================] - 0s 23ms/step\n",
      "1/1 [==============================] - 0s 25ms/step\n",
      "1/1 [==============================] - 0s 22ms/step\n",
      "1/1 [==============================] - 0s 23ms/step\n",
      "1/1 [==============================] - 0s 20ms/step\n",
      "1/1 [==============================] - 0s 23ms/step\n",
      "1/1 [==============================] - 0s 24ms/step\n",
      "1/1 [==============================] - 0s 23ms/step\n",
      "1/1 [==============================] - 0s 22ms/step\n",
      "1/1 [==============================] - 0s 24ms/step\n",
      "1/1 [==============================] - 0s 22ms/step\n",
      "1/1 [==============================] - 0s 24ms/step\n",
      "1/1 [==============================] - 0s 23ms/step\n",
      "1/1 [==============================] - 0s 24ms/step\n",
      "1/1 [==============================] - 0s 26ms/step\n",
      "1/1 [==============================] - 0s 22ms/step\n",
      "1/1 [==============================] - 0s 23ms/step\n",
      "1/1 [==============================] - 0s 21ms/step\n",
      "1/1 [==============================] - 0s 22ms/step\n",
      "1/1 [==============================] - 0s 22ms/step\n",
      "1/1 [==============================] - 0s 25ms/step\n",
      "1/1 [==============================] - 0s 28ms/step\n",
      "1/1 [==============================] - 0s 26ms/step\n",
      "1/1 [==============================] - 0s 27ms/step\n",
      "1/1 [==============================] - 0s 26ms/step\n",
      "1/1 [==============================] - 0s 26ms/step\n",
      "1/1 [==============================] - 0s 25ms/step\n",
      "1/1 [==============================] - 0s 23ms/step\n",
      "1/1 [==============================] - 0s 22ms/step\n",
      "1/1 [==============================] - 0s 21ms/step\n",
      "1/1 [==============================] - 0s 22ms/step\n",
      "1/1 [==============================] - 0s 22ms/step\n",
      "1/1 [==============================] - 0s 25ms/step\n",
      "1/1 [==============================] - 0s 20ms/step\n",
      "1/1 [==============================] - 0s 24ms/step\n",
      "1/1 [==============================] - 0s 24ms/step\n",
      "1/1 [==============================] - 0s 22ms/step\n",
      "1/1 [==============================] - 0s 24ms/step\n",
      "1/1 [==============================] - 0s 21ms/step\n",
      "1/1 [==============================] - 0s 20ms/step\n",
      "1/1 [==============================] - 0s 23ms/step\n",
      "1/1 [==============================] - 0s 23ms/step\n",
      "1/1 [==============================] - 0s 22ms/step\n",
      "1/1 [==============================] - 0s 22ms/step\n",
      "1/1 [==============================] - 0s 22ms/step\n",
      "1/1 [==============================] - 0s 22ms/step\n",
      "1/1 [==============================] - 0s 28ms/step\n",
      "1/1 [==============================] - 0s 20ms/step\n",
      "1/1 [==============================] - 0s 24ms/step\n",
      "1/1 [==============================] - 0s 23ms/step\n",
      "1/1 [==============================] - 0s 22ms/step\n",
      "1/1 [==============================] - 0s 21ms/step\n",
      "1/1 [==============================] - 0s 21ms/step\n",
      "1/1 [==============================] - 0s 30ms/step\n",
      "1/1 [==============================] - 0s 25ms/step\n",
      "1/1 [==============================] - 0s 24ms/step\n",
      "1/1 [==============================] - 0s 21ms/step\n",
      "1/1 [==============================] - 0s 23ms/step\n",
      "1/1 [==============================] - 0s 25ms/step\n",
      "1/1 [==============================] - 0s 25ms/step\n",
      "1/1 [==============================] - 0s 25ms/step\n",
      "1/1 [==============================] - 0s 24ms/step\n",
      "1/1 [==============================] - 0s 25ms/step\n",
      "1/1 [==============================] - 0s 21ms/step\n",
      "1/1 [==============================] - 0s 22ms/step\n",
      "1/1 [==============================] - 0s 23ms/step\n",
      "1/1 [==============================] - 0s 21ms/step\n",
      "1/1 [==============================] - 0s 21ms/step\n",
      "1/1 [==============================] - 0s 24ms/step\n",
      "1/1 [==============================] - 0s 22ms/step\n",
      "1/1 [==============================] - 0s 21ms/step\n",
      "1/1 [==============================] - 0s 25ms/step\n",
      "1/1 [==============================] - 0s 25ms/step\n",
      "1/1 [==============================] - 0s 23ms/step\n",
      "1/1 [==============================] - 0s 22ms/step\n",
      "1/1 [==============================] - 0s 25ms/step\n",
      "1/1 [==============================] - 0s 26ms/step\n",
      "1/1 [==============================] - 0s 24ms/step\n",
      "1/1 [==============================] - 0s 23ms/step\n",
      "1/1 [==============================] - 0s 27ms/step\n",
      "1/1 [==============================] - 0s 25ms/step\n",
      "1/1 [==============================] - 0s 27ms/step\n",
      "1/1 [==============================] - 0s 26ms/step\n"
     ]
    },
    {
     "data": {
      "text/plain": [
       "array([[0.  , 0.  , 0.  , 0.  , 0.  , 0.09, 0.  , 0.19, 0.  , 0.72]],\n",
       "      dtype=float32)"
      ]
     },
     "execution_count": 276,
     "metadata": {},
     "output_type": "execute_result"
    }
   ],
   "source": [
    "np.round(np.mean([mc_model.predict(X_test_scaled[:1]) for sample in range(100)], axis=0), 2)\n"
   ]
  },
  {
   "cell_type": "markdown",
   "id": "76ce43d3",
   "metadata": {},
   "source": [
    "### Max-Norm Regularixation"
   ]
  },
  {
   "cell_type": "code",
   "execution_count": 277,
   "id": "3ce7bc71",
   "metadata": {},
   "outputs": [],
   "source": [
    "layer = keras.layers.Dense(100, activation='selu', kernel_initializer='lecun_normal',\n",
    "                          kernel_constraint=keras.constraints.max_norm(1.))"
   ]
  },
  {
   "cell_type": "code",
   "execution_count": 279,
   "id": "c1d883bf",
   "metadata": {},
   "outputs": [],
   "source": [
    "MaxNormDense = partial(keras.layers.Dense, activation='selu',\n",
    "                      kernel_initializer='lecun_normal',\n",
    "                      kernel_constraint=keras.constraints.max_norm(1.))\n",
    "model = keras.models.Sequential([\n",
    "    keras.layers.Flatten(input_shape=[28, 28]),\n",
    "    MaxNormDense(300),\n",
    "    MaxNormDense(100),\n",
    "    keras.layers.Dense(10, activation='softmax')\n",
    "])"
   ]
  },
  {
   "cell_type": "code",
   "execution_count": 280,
   "id": "541d7978",
   "metadata": {},
   "outputs": [],
   "source": [
    "model.compile(loss='sparse_categorical_crossentropy', optimizer='nadam',\n",
    "             metrics='accuracy')"
   ]
  },
  {
   "cell_type": "code",
   "execution_count": 281,
   "id": "c8ccfc86",
   "metadata": {},
   "outputs": [
    {
     "name": "stdout",
     "output_type": "stream",
     "text": [
      "Epoch 1/2\n",
      "1719/1719 [==============================] - 11s 5ms/step - loss: 0.4764 - accuracy: 0.8337 - val_loss: 0.3676 - val_accuracy: 0.8704\n",
      "Epoch 2/2\n",
      "1719/1719 [==============================] - 9s 5ms/step - loss: 0.3573 - accuracy: 0.8698 - val_loss: 0.3955 - val_accuracy: 0.8624\n"
     ]
    }
   ],
   "source": [
    "n_epochs = 2\n",
    "history = model.fit(X_train_scaled, y_train, epochs=n_epochs,\n",
    "                   validation_data=(X_valid_scaled, y_valid))"
   ]
  },
  {
   "cell_type": "markdown",
   "id": "6f6e30e1",
   "metadata": {},
   "source": [
    "# Summary and Pratical Guidelines"
   ]
  },
  {
   "cell_type": "code",
   "execution_count": null,
   "id": "6c56a583",
   "metadata": {},
   "outputs": [],
   "source": []
  }
 ],
 "metadata": {
  "kernelspec": {
   "display_name": "Python 3 (ipykernel)",
   "language": "python",
   "name": "python3"
  },
  "language_info": {
   "codemirror_mode": {
    "name": "ipython",
    "version": 3
   },
   "file_extension": ".py",
   "mimetype": "text/x-python",
   "name": "python",
   "nbconvert_exporter": "python",
   "pygments_lexer": "ipython3",
   "version": "3.10.9"
  }
 },
 "nbformat": 4,
 "nbformat_minor": 5
}
